{
 "cells": [
  {
   "cell_type": "code",
   "execution_count": 1,
   "metadata": {},
   "outputs": [],
   "source": [
    "import torch\n",
    "import torch.nn as nn\n",
    "import torch.nn.functional as F\n",
    "import torch.optim as optim\n",
    "from torchvision import datasets, transforms\n",
    "\n",
    "import numpy as np\n",
    "import matplotlib.pyplot as plt\n",
    "\n",
    "%matplotlib inline\n",
    "\n",
    "# Add Bayesian-and-novelty directory to the PYTHONPATH\n",
    "import sys\n",
    "import os\n",
    "sys.path.append(os.path.realpath('../../..'))\n",
    "\n",
    "# Autoreload changes in utils, etc.\n",
    "%load_ext autoreload\n",
    "%autoreload 2\n",
    "\n",
    "from novelty.utils.metrics import plot_roc, plot_prc\n",
    "from novelty.utils.metrics import get_summary_statistics\n",
    "from novelty.utils.metrics import html_summary_table"
   ]
  },
  {
   "cell_type": "code",
   "execution_count": 2,
   "metadata": {},
   "outputs": [],
   "source": [
    "# Training settings\n",
    "BATCH_SIZE = 128\n",
    "EPOCHS = 200\n",
    "LR = 0.1\n",
    "MOMENTUM = 0.9\n",
    "NO_CUDA = False\n",
    "SEED = 1\n",
    "CLASSES = 10\n",
    "MODEL_PATH_ROOT = './weights/wrn-28-10-cifar10'\n",
    "MODEL_PATH = MODEL_PATH_ROOT + '.pth'\n",
    "\n",
    "# MNIST mean and stdevs of training data by channel\n",
    "CHANNEL_MEANS = (125.3/255, 123.0/255, 113.9/255)\n",
    "CHANNEL_STDS = (63.0/255, 62.1/255.0, 66.7/255.0)\n",
    "\n",
    "# Plot ROC and PR curves\n",
    "PLOT_CHARTS = True\n",
    "\n",
    "# ODIN parameters\n",
    "TEMP = 1000.\n",
    "NOISE_MAGNITUDE = 0.0012"
   ]
  },
  {
   "cell_type": "markdown",
   "metadata": {},
   "source": [
    "## Training and Testing functions"
   ]
  },
  {
   "cell_type": "code",
   "execution_count": 3,
   "metadata": {},
   "outputs": [],
   "source": [
    "from novelty.utils import Progbar\n",
    "\n",
    "\n",
    "def train(model, device, train_loader, optimizer, epoch):\n",
    "    progbar = Progbar(target=len(train_loader.dataset))\n",
    "\n",
    "    model.train()\n",
    "    for batch_idx, (data, target) in enumerate(train_loader):\n",
    "        data, target = data.to(device), target.to(device)\n",
    "        optimizer.zero_grad()\n",
    "        output = F.log_softmax(model(data), dim=1)\n",
    "        loss = F.nll_loss(output, target)\n",
    "        loss.backward()\n",
    "        optimizer.step()\n",
    "\n",
    "        progbar.add(len(data), [(\"loss\", loss.item())])\n",
    "        \n",
    "    "
   ]
  },
  {
   "cell_type": "code",
   "execution_count": 4,
   "metadata": {},
   "outputs": [],
   "source": [
    "def test(model, device, test_loader):\n",
    "    model.eval()\n",
    "    test_loss = 0\n",
    "    correct = 0\n",
    "    with torch.no_grad():\n",
    "        for data, target in test_loader:\n",
    "            data, target = data.to(device), target.to(device)\n",
    "            output = F.log_softmax(model(data), dim=1)\n",
    "            # sum up batch loss\n",
    "            test_loss += F.nll_loss(output, target, size_average=False).item()\n",
    "            # get the index of the max log-probability\n",
    "            pred = output.max(1, keepdim=True)[1]\n",
    "            correct += pred.eq(target.view_as(pred)).sum().item()\n",
    "\n",
    "    test_loss /= len(test_loader.dataset)\n",
    "    test_acc = 100. * correct / len(test_loader.dataset)\n",
    "    print('Test set: Average loss: {:.4f}, Accuracy: {}/{} ({:.0f}%)\\n'.format(\n",
    "        test_loss, correct, len(test_loader.dataset), test_acc))\n",
    "    \n",
    "    return test_loss, test_acc"
   ]
  },
  {
   "cell_type": "markdown",
   "metadata": {},
   "source": [
    "## Initialize model and load MNIST"
   ]
  },
  {
   "cell_type": "code",
   "execution_count": 5,
   "metadata": {},
   "outputs": [
    {
     "name": "stdout",
     "output_type": "stream",
     "text": [
      "Files already downloaded and verified\n",
      "Files already downloaded and verified\n",
      "| Wide-Resnet 28x10\n"
     ]
    }
   ],
   "source": [
    "from novelty.utils import DATA_DIR\n",
    "from src.wide_resnet import Wide_ResNet\n",
    "\n",
    "torch.manual_seed(SEED)\n",
    "\n",
    "use_cuda = not NO_CUDA and torch.cuda.is_available()\n",
    "device = torch.device(\"cuda\" if use_cuda else \"cpu\")\n",
    "\n",
    "# Dataset transformation\n",
    "transform = transforms.Compose([\n",
    "    transforms.ToTensor(),\n",
    "    transforms.Normalize(CHANNEL_MEANS, CHANNEL_STDS)\n",
    "])\n",
    "\n",
    "# Load training and test sets\n",
    "kwargs = {'num_workers': 2, 'pin_memory': True} if use_cuda else {}\n",
    "train_loader = torch.utils.data.DataLoader(\n",
    "    datasets.CIFAR10(os.path.join(DATA_DIR, 'cifar10'), train=True, transform=transform, download=True),\n",
    "    batch_size=BATCH_SIZE, shuffle=True, **kwargs)\n",
    "test_loader = torch.utils.data.DataLoader(\n",
    "    datasets.CIFAR10(os.path.join(DATA_DIR, 'cifar10'), train=False, transform=transform, download=True),\n",
    "    batch_size=BATCH_SIZE, shuffle=False, **kwargs)\n",
    "\n",
    "# Create model instance\n",
    "model = Wide_ResNet(28, 10, 0.0, CLASSES)\n",
    "model = model.to(device)\n",
    "\n",
    "# Initialize optimizer\n",
    "optimizer = optim.SGD(model.parameters(), lr=LR, momentum=MOMENTUM)\n",
    "scheduler = optim.lr_scheduler.MultiStepLR(optimizer, milestones=[int(EPOCHS*0.5), int(EPOCHS*0.75)], gamma=0.1)"
   ]
  },
  {
   "cell_type": "markdown",
   "metadata": {},
   "source": [
    "## Optimization loop"
   ]
  },
  {
   "cell_type": "code",
   "execution_count": 6,
   "metadata": {},
   "outputs": [],
   "source": [
    "if os.path.exists(MODEL_PATH):\n",
    "    # load previously trained model:\n",
    "    model.load_state_dict(torch.load(MODEL_PATH))\n",
    "\n",
    "else:\n",
    "    best_loss = float(\"inf\")\n",
    "    \n",
    "    # Training loop\n",
    "    for epoch in range(EPOCHS):\n",
    "        print(\"Epoch:\", epoch)\n",
    "        scheduler.step()\n",
    "        \n",
    "        # Print the learning rate\n",
    "        for param_group in optimizer.param_groups:\n",
    "            print('Learning rate:', param_group['lr'])\n",
    "        \n",
    "        train(model, device, train_loader, optimizer, epoch)\n",
    "        loss, acc = test(model, device, test_loader)\n",
    "        \n",
    "        # Checkpoint the model parameters\n",
    "        if loss < best_loss:\n",
    "            torch.save(model.state_dict(), \"{}_epoch{}.pth\".format(MODEL_PATH_ROOT, epoch))\n",
    "            best_loss = loss\n",
    "            \n",
    "\n",
    "    # save the model \n",
    "    torch.save(model.state_dict(), MODEL_PATH)"
   ]
  },
  {
   "cell_type": "markdown",
   "metadata": {},
   "source": [
    "## ODIN prediction functions"
   ]
  },
  {
   "cell_type": "code",
   "execution_count": 7,
   "metadata": {},
   "outputs": [],
   "source": [
    "from torch.autograd import Variable\n",
    "\n",
    "\n",
    "def predict(model, data, device):\n",
    "    model.eval()\n",
    "    data = data.to(device)\n",
    "    outputs = model(data)\n",
    "    outputs = outputs - outputs.max(1)[0].unsqueeze(1)  # For stability\n",
    "    return F.softmax(outputs, dim=1)\n",
    "\n",
    "\n",
    "def predict_temp(model, data, device, temp=1000.):\n",
    "    model.eval()\n",
    "    data = data.to(device)\n",
    "    outputs = model(data)\n",
    "    outputs /= temp\n",
    "    outputs = outputs - outputs.max(1)[0].unsqueeze(1)  # For stability\n",
    "    return F.softmax(outputs, dim=1)\n",
    "\n",
    "\n",
    "def predict_novelty(model, data, device, temp=1000., noiseMagnitude=0.0012):\n",
    "    model.eval()\n",
    "\n",
    "    # Create a variable so we can get the gradients on the input\n",
    "    inputs = Variable(data.to(device), requires_grad=True)\n",
    "\n",
    "    # Get the predicted labels\n",
    "    outputs = model(inputs)\n",
    "    outputs = outputs / temp\n",
    "    outputs = F.log_softmax(outputs, dim=1)\n",
    "\n",
    "    # Calculate the perturbation to add to the input\n",
    "    maxIndexTemp = torch.argmax(outputs, dim=1)\n",
    "    labels = Variable(maxIndexTemp).to(device)\n",
    "    loss = F.nll_loss(outputs, labels)\n",
    "    loss.backward()\n",
    "\n",
    "    # Normalizing the gradient to binary in {0, 1}\n",
    "    gradient = torch.ge(inputs.grad.data, 0)\n",
    "    gradient = (gradient.float() - 0.5) * 2\n",
    "\n",
    "    # Normalize the gradient to the same space of image\n",
    "    for channel, (mean, std) in enumerate(zip(CHANNEL_MEANS, CHANNEL_STDS)):\n",
    "        gradient[0][channel] = (gradient[0][channel] - mean) / std\n",
    "\n",
    "    # Add small perturbations to image\n",
    "    # TODO, this is from the released code, but disagrees with paper I think\n",
    "    tempInputs = torch.add(inputs.data, -noiseMagnitude, gradient)\n",
    "\n",
    "    # Get new outputs after perturbations\n",
    "    outputs = model(Variable(tempInputs))\n",
    "    outputs = outputs / temp\n",
    "    outputs = outputs - outputs.max(1)[0].unsqueeze(1)  # For stability\n",
    "    outputs = F.softmax(outputs, dim=1)\n",
    "\n",
    "    return outputs"
   ]
  },
  {
   "cell_type": "markdown",
   "metadata": {},
   "source": [
    "## Evaluate method on outlier datasets"
   ]
  },
  {
   "cell_type": "code",
   "execution_count": 8,
   "metadata": {},
   "outputs": [],
   "source": [
    "def get_max_model_outputs(data_loader, device):\n",
    "    \"\"\"Get the max softmax output from the model in a Python array.\n",
    "\n",
    "    data_loader: object\n",
    "        A pytorch dataloader with the data you want to calculate values for.\n",
    "\n",
    "    device: object\n",
    "        The CUDA device handle.\n",
    "    \"\"\"\n",
    "    result = []\n",
    "    \n",
    "    for data, target in data_loader:\n",
    "        # Using regular model\n",
    "        p = predict(model, data, device)\n",
    "        max_val, label = torch.max(p, dim=1)\n",
    "        # Convert torch tensors to python list\n",
    "        max_val = list(max_val.cpu().detach().numpy())\n",
    "        result += max_val\n",
    "\n",
    "    return result\n",
    "\n",
    "\n",
    "def get_max_odin_outputs(data_loader, device, temp=1000., noiseMagnitude=0.0012):\n",
    "    \"\"\"Convenience function to get the max softmax values from the ODIN model in a Python array.\n",
    "    \n",
    "    data_loader: object\n",
    "        A pytorch dataloader with the data you want to calculate values for.\n",
    "        \n",
    "    device: object\n",
    "        The CUDA device handle.\n",
    "        \n",
    "    temp: float, optional (default=1000.)\n",
    "        The temp the model should use to do temperature scaling on the softmax outputs.\n",
    "        \n",
    "    noiseMagnitude: float, optional (default=0.0012)\n",
    "        The epsilon value used to scale the input images according to the ODIN paper.\n",
    "    \"\"\"\n",
    "    result = []\n",
    "    \n",
    "    for data, target in data_loader:\n",
    "        # Using ODIN model\n",
    "        p = predict_novelty(model, data, device, temp=temp, noiseMagnitude=noiseMagnitude)\n",
    "        max_val, label = torch.max(p, dim=1)\n",
    "        # Convert torch tensors to python list\n",
    "        max_val = list(max_val.cpu().detach().numpy())\n",
    "        result += max_val\n",
    "\n",
    "    return result"
   ]
  },
  {
   "cell_type": "code",
   "execution_count": 9,
   "metadata": {},
   "outputs": [],
   "source": [
    "# Build results table\n",
    "results = {\n",
    "    \"WRN-28-10\": {\n",
    "        \"inlier_name\": \"CIFAR10\",\n",
    "        \"outliers\": {}\n",
    "    },\n",
    "    \"WRN-28-10-ODIN\": {\n",
    "        \"inlier_name\": \"CIFAR10\",\n",
    "        \"outliers\": {}\n",
    "    }\n",
    "}"
   ]
  },
  {
   "cell_type": "markdown",
   "metadata": {},
   "source": [
    "### Process Inliers"
   ]
  },
  {
   "cell_type": "code",
   "execution_count": 10,
   "metadata": {},
   "outputs": [],
   "source": [
    "num_inliers = test_loader.dataset.test_data.shape[0]\n",
    "\n",
    "# Get predictions on in-distribution images\n",
    "cifar_model_maximums = get_max_model_outputs(test_loader, device)\n",
    "cifar_odin_maximums = get_max_odin_outputs(test_loader, device, temp=TEMP, noiseMagnitude=NOISE_MAGNITUDE)"
   ]
  },
  {
   "cell_type": "markdown",
   "metadata": {},
   "source": [
    "## Get CIFAR10 outputs"
   ]
  },
  {
   "cell_type": "code",
   "execution_count": 14,
   "metadata": {},
   "outputs": [],
   "source": [
    "# CIFAR10 test (vanilla WRN T=1, pert e=0) -> \n",
    "cifar10_t1_e0 = get_max_model_outputs(test_loader, device)\n",
    "\n",
    "# CIFAR10 test (T=1000 + pert e=0.0012) -> \n",
    "cifar10_t1000_e0_0012 = get_max_odin_outputs(test_loader, device, temp=1000, noiseMagnitude=0.0012)\n",
    "\n",
    "# CIFAR10 test (T=1 + pert e=0.0012) -> \n",
    "cifar10_t1_e0_0012 = get_max_odin_outputs(test_loader, device, temp=1, noiseMagnitude=0.0012)\n",
    "\n",
    "# CIFAR10 test (T=1000 + pert e=0.0) -> \n",
    "cifar10_t1000_e0 = get_max_odin_outputs(test_loader, device, temp=1, noiseMagnitude=0.0012)"
   ]
  },
  {
   "cell_type": "code",
   "execution_count": 27,
   "metadata": {},
   "outputs": [],
   "source": [
    "import csv\n",
    "\n",
    "with open('cifar10_t1_e0.csv', 'w') as f:\n",
    "    wr = csv.writer(f)\n",
    "    wr.writerows([list(cifar10_t1_e0)])\n",
    "    \n",
    "with open('cifar10_t1000_e0_0012.csv', 'w') as f:\n",
    "    wr = csv.writer(f)\n",
    "    wr.writerows([list(cifar10_t1000_e0_0012)])\n",
    "    \n",
    "with open('cifar10_t1_e0_0012.csv', 'w') as f:\n",
    "    wr = csv.writer(f)\n",
    "    wr.writerows([list(cifar10_t1_e0_0012)])\n",
    "    \n",
    "with open('cifar10_t1000_e0.csv', 'w') as f:\n",
    "    wr = csv.writer(f)\n",
    "    wr.writerows([list(cifar10_t1000_e0)])"
   ]
  },
  {
   "cell_type": "markdown",
   "metadata": {},
   "source": [
    "## CIFAR100 ouputs"
   ]
  },
  {
   "cell_type": "code",
   "execution_count": 28,
   "metadata": {},
   "outputs": [
    {
     "name": "stdout",
     "output_type": "stream",
     "text": [
      "Files already downloaded and verified\n"
     ]
    }
   ],
   "source": [
    "cifar100_loader = torch.utils.data.DataLoader(\n",
    "    datasets.CIFAR100(os.path.join(DATA_DIR, 'cifar100'), train=False, transform=transform, download=True),\n",
    "    batch_size=BATCH_SIZE, shuffle=False, **kwargs)\n",
    "\n",
    "# CIFAR100 test (vanilla WRN T=1, pert e=0) -> \n",
    "cifar100_t1_e0 = get_max_model_outputs(cifar100_loader, device)\n",
    "\n",
    "# CIFAR100 test (T=1000 + pert e=0.0012) -> \n",
    "cifar100_t1000_e0_0012 = get_max_odin_outputs(cifar100_loader, device, temp=1000, noiseMagnitude=0.0012)\n",
    "\n",
    "# CIFAR100 test (T=1 + pert e=0.0012) -> \n",
    "cifar100_t1_e0_0012 = get_max_odin_outputs(cifar100_loader, device, temp=1, noiseMagnitude=0.0012)\n",
    "\n",
    "# CIFAR100 test (T=1000 + pert e=0.0) -> \n",
    "cifar100_t1000_e0 = get_max_odin_outputs(cifar100_loader, device, temp=1, noiseMagnitude=0.0012)"
   ]
  },
  {
   "cell_type": "code",
   "execution_count": 29,
   "metadata": {},
   "outputs": [],
   "source": [
    "import csv\n",
    "\n",
    "with open('cifar100_t1_e0.csv', 'w') as f:\n",
    "    wr = csv.writer(f)\n",
    "    wr.writerows([list(cifar100_t1_e0)])\n",
    "    \n",
    "with open('cifar100_t1000_e0_0012.csv', 'w') as f:\n",
    "    wr = csv.writer(f)\n",
    "    wr.writerows([list(cifar100_t1000_e0_0012)])\n",
    "    \n",
    "with open('cifar100_t1_e0_0012.csv', 'w') as f:\n",
    "    wr = csv.writer(f)\n",
    "    wr.writerows([list(cifar100_t1_e0_0012)])\n",
    "    \n",
    "with open('cifar100_t1000_e0.csv', 'w') as f:\n",
    "    wr = csv.writer(f)\n",
    "    wr.writerows([list(cifar100_t1000_e0)])"
   ]
  },
  {
   "cell_type": "code",
   "execution_count": null,
   "metadata": {},
   "outputs": [],
   "source": []
  }
 ],
 "metadata": {
  "kernelspec": {
   "display_name": "Python 3",
   "language": "python",
   "name": "python3"
  },
  "language_info": {
   "codemirror_mode": {
    "name": "ipython",
    "version": 3
   },
   "file_extension": ".py",
   "mimetype": "text/x-python",
   "name": "python",
   "nbconvert_exporter": "python",
   "pygments_lexer": "ipython3",
   "version": "3.5.2"
  }
 },
 "nbformat": 4,
 "nbformat_minor": 2
}
