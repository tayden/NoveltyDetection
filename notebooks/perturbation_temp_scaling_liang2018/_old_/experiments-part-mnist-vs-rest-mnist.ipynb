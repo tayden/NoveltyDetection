{
 "cells": [
  {
   "cell_type": "code",
   "execution_count": 69,
   "metadata": {},
   "outputs": [
    {
     "name": "stdout",
     "output_type": "stream",
     "text": [
      "The autoreload extension is already loaded. To reload it, use:\n",
      "  %reload_ext autoreload\n"
     ]
    }
   ],
   "source": [
    "import torch\n",
    "import torch.nn as nn\n",
    "import torch.nn.functional as F\n",
    "import torch.optim as optim\n",
    "from torchvision import datasets, transforms\n",
    "\n",
    "import numpy as np\n",
    "import matplotlib.pyplot as plt\n",
    "\n",
    "%matplotlib inline\n",
    "\n",
    "# Add Bayesian-and-novelty directory to the PYTHONPATH\n",
    "import sys\n",
    "import os\n",
    "sys.path.append(os.path.realpath('../../..'))\n",
    "\n",
    "# Autoreload changes in utils, etc.\n",
    "%load_ext autoreload\n",
    "%autoreload 2\n",
    "\n",
    "from novelty.utils.metrics import plot_roc, plot_prc\n",
    "from novelty.utils.metrics import get_summary_statistics\n",
    "from novelty.utils.metrics import html_summary_table\n",
    "from novelty.utils.metrics import barcode_plot"
   ]
  },
  {
   "cell_type": "code",
   "execution_count": 70,
   "metadata": {},
   "outputs": [],
   "source": [
    "# Training settings\n",
    "BATCH_SIZE = 128\n",
    "TEST_BATCH_SIZE = 1000\n",
    "EPOCHS = 100\n",
    "LR = 0.01\n",
    "MOMENTUM = 0.5\n",
    "NO_CUDA = False\n",
    "SEED = 1\n",
    "\n",
    "# MNIST mean and stdevs of training data by channel\n",
    "CHANNEL_MEANS = (0.1307,)\n",
    "CHANNEL_STDS = (0.3081,)\n",
    "\n",
    "# Plot ROC and PR curves\n",
    "PLOT_CHARTS = True\n",
    "\n",
    "# ODIN parameters\n",
    "TEMP = 1000.\n",
    "NOISE_MAGNITUDE = 0.0012"
   ]
  },
  {
   "cell_type": "markdown",
   "metadata": {},
   "source": [
    "## Create network architecture"
   ]
  },
  {
   "cell_type": "code",
   "execution_count": 71,
   "metadata": {},
   "outputs": [],
   "source": [
    "class Net(nn.Module):\n",
    "    def __init__(self):\n",
    "        super(Net, self).__init__()\n",
    "        self.conv1 = nn.Conv2d(1, 10, kernel_size=5)\n",
    "        self.conv2 = nn.Conv2d(10, 20, kernel_size=5)\n",
    "        self.conv2_drop = nn.Dropout2d()\n",
    "        self.fc1 = nn.Linear(320, 50)\n",
    "        self.fc2 = nn.Linear(50, 10)\n",
    "\n",
    "    def forward(self, x):\n",
    "        x = F.relu(F.max_pool2d(self.conv1(x), 2))\n",
    "        x = F.relu(F.max_pool2d(self.conv2_drop(self.conv2(x)), 2))\n",
    "        x = x.view(-1, 320)\n",
    "        x = F.relu(self.fc1(x))\n",
    "        x = F.dropout(x, training=self.training)\n",
    "        x = self.fc2(x)\n",
    "        # return F.log_softmax(x, dim=1)\n",
    "        return x"
   ]
  },
  {
   "cell_type": "markdown",
   "metadata": {},
   "source": [
    "## Training and Testing functions"
   ]
  },
  {
   "cell_type": "code",
   "execution_count": 72,
   "metadata": {},
   "outputs": [],
   "source": [
    "from novelty.utils import Progbar\n",
    "\n",
    "\n",
    "def train(model, device, train_loader, optimizer, epoch):\n",
    "    progbar = Progbar(target=len(train_loader.dataset))\n",
    "\n",
    "    model.train()\n",
    "    for batch_idx, (data, target) in enumerate(train_loader):\n",
    "        data, target = data.to(device), target.to(device)\n",
    "        optimizer.zero_grad()\n",
    "        output = F.log_softmax(model(data), dim=1)\n",
    "        loss = F.nll_loss(output, target)\n",
    "        loss.backward()\n",
    "        optimizer.step()\n",
    "\n",
    "        progbar.add(len(data), [(\"loss\", loss.item())])"
   ]
  },
  {
   "cell_type": "code",
   "execution_count": 73,
   "metadata": {},
   "outputs": [],
   "source": [
    "def test(model, device, test_loader):\n",
    "    model.eval()\n",
    "    test_loss = 0\n",
    "    correct = 0\n",
    "    with torch.no_grad():\n",
    "        for data, target in test_loader:\n",
    "            data, target = data.to(device), target.to(device)\n",
    "            output = F.log_softmax(model(data), dim=1)\n",
    "            # sum up batch loss\n",
    "            test_loss += F.nll_loss(output, target, size_average=False).item()\n",
    "            # get the index of the max log-probability\n",
    "            pred = output.max(1, keepdim=True)[1]\n",
    "            correct += pred.eq(target.view_as(pred)).sum().item()\n",
    "\n",
    "    test_loss /= len(test_loader.dataset)\n",
    "    print('Test set: Average loss: {:.4f}, Accuracy: {}/{} ({:.0f}%)\\n'.format(\n",
    "        test_loss, correct, len(test_loader.dataset),\n",
    "        100. * correct / len(test_loader.dataset)))"
   ]
  },
  {
   "cell_type": "markdown",
   "metadata": {},
   "source": [
    "## Initialize model and load MNIST"
   ]
  },
  {
   "cell_type": "code",
   "execution_count": 74,
   "metadata": {},
   "outputs": [],
   "source": [
    "from novelty.utils import DATA_DIR\n",
    "\n",
    "torch.manual_seed(SEED)\n",
    "\n",
    "use_cuda = not NO_CUDA and torch.cuda.is_available()\n",
    "device = torch.device(\"cuda\" if use_cuda else \"cpu\")\n",
    "\n",
    "# Dataset transformation\n",
    "transform = transforms.Compose([\n",
    "    transforms.ToTensor(),\n",
    "    transforms.Normalize(CHANNEL_MEANS, CHANNEL_STDS)\n",
    "])"
   ]
  },
  {
   "cell_type": "code",
   "execution_count": 75,
   "metadata": {},
   "outputs": [],
   "source": [
    "from novelty.utils import DatasetSubset\n",
    "\n",
    "INLIER_CLASSES = [0, 1, 2, 3, 4]\n",
    "OUTLIER_CLASSES = [5, 6, 7, 8, 9]\n",
    "\n",
    "mnist_train_inliers_dataset = DatasetSubset(datasets.MNIST(\n",
    "    DATA_DIR, train=True, transform=transform, download=True), INLIER_CLASSES)\n",
    "\n",
    "mnist_test_inliers_dataset = DatasetSubset(datasets.MNIST(\n",
    "    DATA_DIR, transform=transform, download=True), INLIER_CLASSES)\n",
    "\n",
    "mnist_test_outliers_dataset = DatasetSubset(datasets.MNIST(\n",
    "    DATA_DIR, transform=transform, download=True), OUTLIER_CLASSES)"
   ]
  },
  {
   "cell_type": "code",
   "execution_count": 76,
   "metadata": {},
   "outputs": [],
   "source": [
    "# Load training and test sets\n",
    "kwargs = {'num_workers': 2, 'pin_memory': True} if use_cuda else {}\n",
    "train_loader = torch.utils.data.DataLoader(\n",
    "    mnist_train_inliers_dataset,\n",
    "    batch_size=BATCH_SIZE, shuffle=True, **kwargs)\n",
    "\n",
    "test_loader = torch.utils.data.DataLoader(\n",
    "    mnist_test_inliers_dataset,\n",
    "    batch_size=TEST_BATCH_SIZE, shuffle=True, **kwargs)\n",
    "\n",
    "# Create model instance\n",
    "model = Net().to(device)\n",
    "\n",
    "# Initialize optimizer\n",
    "optimizer = optim.SGD(model.parameters(), lr=LR, momentum=MOMENTUM)"
   ]
  },
  {
   "cell_type": "markdown",
   "metadata": {},
   "source": [
    "## Optimization loop"
   ]
  },
  {
   "cell_type": "code",
   "execution_count": 77,
   "metadata": {
    "scrolled": true
   },
   "outputs": [],
   "source": [
    "MODEL_PATH = './cnn_mnist_split_net.pth'\n",
    "\n",
    "if os.path.exists(MODEL_PATH):\n",
    "    # load previously trained model:\n",
    "    model.load_state_dict(torch.load(MODEL_PATH))\n",
    "\n",
    "else:\n",
    "    # Training loop\n",
    "    for epoch in range(1, EPOCHS + 1):\n",
    "        print(\"Epoch:\", epoch)\n",
    "        train(model, device, train_loader, optimizer, epoch)\n",
    "        test(model, device, test_loader)\n",
    "\n",
    "    # save the model \n",
    "    torch.save(model.state_dict(), MODEL_PATH)"
   ]
  },
  {
   "cell_type": "markdown",
   "metadata": {},
   "source": [
    "## ODIN prediction functions"
   ]
  },
  {
   "cell_type": "code",
   "execution_count": 78,
   "metadata": {},
   "outputs": [],
   "source": [
    "from torch.autograd import Variable\n",
    "\n",
    "\n",
    "def predict(model, data, device):\n",
    "    model.eval()\n",
    "    data = data.to(device)\n",
    "    outputs = model(data)\n",
    "    outputs = outputs - outputs.max(1)[0].unsqueeze(1)  # For stability\n",
    "    return F.softmax(outputs, dim=1)\n",
    "\n",
    "\n",
    "def predict_temp(model, data, device, temp=1000.):\n",
    "    model.eval()\n",
    "    data = data.to(device)\n",
    "    outputs = model(data)\n",
    "    outputs /= temp\n",
    "    outputs = outputs - outputs.max(1)[0].unsqueeze(1)  # For stability\n",
    "    return F.softmax(outputs, dim=1)\n",
    "\n",
    "\n",
    "def predict_novelty(model, data, device, temp=1000., noiseMagnitude=0.0012):\n",
    "    model.eval()\n",
    "\n",
    "    # Create a variable so we can get the gradients on the input\n",
    "    inputs = Variable(data.to(device), requires_grad=True)\n",
    "\n",
    "    # Get the predicted labels\n",
    "    outputs = model(inputs)\n",
    "    outputs = outputs / temp\n",
    "    outputs = F.log_softmax(outputs, dim=1)\n",
    "\n",
    "    # Calculate the perturbation to add to the input\n",
    "    maxIndexTemp = torch.argmax(outputs, dim=1)\n",
    "    labels = Variable(maxIndexTemp).to(device)\n",
    "    loss = F.nll_loss(outputs, labels)\n",
    "    loss.backward()\n",
    "\n",
    "    # Normalizing the gradient to binary in {0, 1}\n",
    "    gradient = torch.ge(inputs.grad.data, 0)\n",
    "    gradient = (gradient.float() - 0.5) * 2\n",
    "\n",
    "    # Normalize the gradient to the same space of image\n",
    "    for channel, (mean, std) in enumerate(zip(CHANNEL_MEANS, CHANNEL_STDS)):\n",
    "        gradient[0][channel] = (gradient[0][channel] - mean) / std\n",
    "\n",
    "    # Add small perturbations to image\n",
    "    # TODO, this is from the released code, but disagrees with paper I think\n",
    "    tempInputs = torch.add(inputs.data, -noiseMagnitude, gradient)\n",
    "\n",
    "    # Get new outputs after perturbations\n",
    "    outputs = model(Variable(tempInputs))\n",
    "    outputs = outputs / temp\n",
    "    outputs = outputs - outputs.max(1)[0].unsqueeze(1)  # For stability\n",
    "    outputs = F.softmax(outputs, dim=1)\n",
    "\n",
    "    return outputs"
   ]
  },
  {
   "cell_type": "markdown",
   "metadata": {},
   "source": [
    "## Evaluate method on outlier datasets"
   ]
  },
  {
   "cell_type": "code",
   "execution_count": 79,
   "metadata": {},
   "outputs": [],
   "source": [
    "def get_max_model_outputs(data_loader, device):\n",
    "    \"\"\"Get the max softmax output from the model in a Python array.\n",
    "\n",
    "    data_loader: object\n",
    "        A pytorch dataloader with the data you want to calculate values for.\n",
    "\n",
    "    device: object\n",
    "        The CUDA device handle.\n",
    "    \"\"\"\n",
    "    result = []\n",
    "    \n",
    "    for data, target in data_loader:\n",
    "        # Using regular model\n",
    "        p = predict(model, data, device)\n",
    "        max_val, label = torch.max(p, dim=1)\n",
    "        # Convert torch tensors to python list\n",
    "        max_val = list(max_val.cpu().detach().numpy())\n",
    "        result += max_val\n",
    "\n",
    "    return result\n",
    "\n",
    "\n",
    "def get_max_odin_outputs(data_loader, device, temp=1000., noiseMagnitude=0.0012):\n",
    "    \"\"\"Convenience function to get the max softmax values from the ODIN model in a Python array.\n",
    "    \n",
    "    data_loader: object\n",
    "        A pytorch dataloader with the data you want to calculate values for.\n",
    "        \n",
    "    device: object\n",
    "        The CUDA device handle.\n",
    "        \n",
    "    temp: float, optional (default=1000.)\n",
    "        The temp the model should use to do temperature scaling on the softmax outputs.\n",
    "        \n",
    "    noiseMagnitude: float, optional (default=0.0012)\n",
    "        The epsilon value used to scale the input images according to the ODIN paper.\n",
    "    \"\"\"\n",
    "    result = []\n",
    "    \n",
    "    for data, target in data_loader:\n",
    "        # Using ODIN model\n",
    "        p = predict_novelty(model, data, device, temp=temp, noiseMagnitude=noiseMagnitude)\n",
    "        max_val, label = torch.max(p, dim=1)\n",
    "        # Convert torch tensors to python list\n",
    "        max_val = list(max_val.cpu().detach().numpy())\n",
    "        result += max_val\n",
    "\n",
    "    return result"
   ]
  },
  {
   "cell_type": "code",
   "execution_count": 80,
   "metadata": {},
   "outputs": [],
   "source": [
    "# Build results table\n",
    "results = {\n",
    "    \"CNN\": {\n",
    "        \"inlier_name\": \"MNIST (0-4)\",\n",
    "        \"outliers\": {}\n",
    "    },\n",
    "    \"CNN_ODIN\": {\n",
    "        \"inlier_name\": \"MNIST (0-4)\",\n",
    "        \"outliers\": {}\n",
    "    }\n",
    "}"
   ]
  },
  {
   "cell_type": "markdown",
   "metadata": {},
   "source": [
    "### Predict on MNIST Inliers"
   ]
  },
  {
   "cell_type": "code",
   "execution_count": 81,
   "metadata": {},
   "outputs": [],
   "source": [
    "num_inliers = len(test_loader.dataset)\n",
    "\n",
    "# Get predictions on in-distribution images\n",
    "mnist_model_maximums = get_max_model_outputs(test_loader, device)\n",
    "mnist_odin_maximums = get_max_odin_outputs(test_loader, device, temp=TEMP, noiseMagnitude=NOISE_MAGNITUDE)"
   ]
  },
  {
   "cell_type": "markdown",
   "metadata": {},
   "source": [
    "### Predict on MNIST Outliers"
   ]
  },
  {
   "cell_type": "code",
   "execution_count": 82,
   "metadata": {},
   "outputs": [],
   "source": [
    "# Load the dataset\n",
    "kwargs = {'num_workers': 2, 'pin_memory': True} if use_cuda else {}\n",
    "\n",
    "outlier_loader = torch.utils.data.DataLoader(\n",
    "    mnist_test_outliers_dataset,\n",
    "    batch_size=TEST_BATCH_SIZE, shuffle=True, **kwargs)\n",
    "\n",
    "num_outliers = len(outlier_loader.dataset)\n",
    "\n",
    "# Get predictions on in-distribution images\n",
    "outlier_model_maximums = get_max_model_outputs(outlier_loader, device)\n",
    "outlier_odin_maximums = get_max_odin_outputs(outlier_loader, device, temp=TEMP, noiseMagnitude=NOISE_MAGNITUDE)"
   ]
  },
  {
   "cell_type": "code",
   "execution_count": 91,
   "metadata": {},
   "outputs": [
    {
     "data": {
      "image/png": "[encoded data removed]",
      "text/plain": [
       "<Figure size 432x288 with 1 Axes>"
      ]
     },
     "metadata": {},
     "output_type": "display_data"
    },
    {
     "data": {
      "image/png": "[encoded data removed]",
      "text/plain": [
       "<Figure size 432x288 with 1 Axes>"
      ]
     },
     "metadata": {},
     "output_type": "display_data"
    },
    {
     "data": {
      "image/png": "[encoded data removed]",
      "text/plain": [
       "<Figure size 432x288 with 1 Axes>"
      ]
     },
     "metadata": {},
     "output_type": "display_data"
    },
    {
     "data": {
      "image/png": "[encoded data removed]",
      "text/plain": [
       "<Figure size 432x288 with 1 Axes>"
      ]
     },
     "metadata": {},
     "output_type": "display_data"
    }
   ],
   "source": [
    "labels = [1] * num_inliers + [0] * num_outliers\n",
    "predictions = mnist_model_maximums + outlier_model_maximums\n",
    "predictions_odin = mnist_odin_maximums + outlier_odin_maximums\n",
    "\n",
    "results[\"CNN\"][\"outliers\"][\"5-9 MNIST\"] = get_summary_statistics(predictions, labels)\n",
    "results[\"CNN_ODIN\"][\"outliers\"][\"5-9 MNIST\"] = get_summary_statistics(predictions_odin, labels)\n",
    "\n",
    "if PLOT_CHARTS:\n",
    "    plot_roc(predictions, labels, title=\"Softmax Thresholding ROC Curve\")\n",
    "    barcode_plot(predictions, labels)\n",
    "\n",
    "    plot_roc(predictions_odin, labels, title=\"ODIN ROC Curve\")    \n",
    "    barcode_plot(predictions_odin, labels)\n",
    "\n",
    "#     plot_prc(predictions, labels, title=\"Softmax Thresholding PRC Curve (In)\")\n",
    "#     plot_prc(predictions_odin, labels, title=\"ODIN PRC Curve (In)\")\n",
    "    \n",
    "#     plot_prc([-a for a in predictions], [1 - a for a in labels], title=\"Softmax Thresholding PRC Curve (Out)\")\n",
    "#     plot_prc([-a for a in predictions_odin], [1 - a for a in labels], title=\"ODIN PRC Curve (Out)\")"
   ]
  },
  {
   "cell_type": "markdown",
   "metadata": {},
   "source": [
    "# Show Results Table"
   ]
  },
  {
   "cell_type": "code",
   "execution_count": 84,
   "metadata": {},
   "outputs": [
    {
     "data": {
      "text/html": [
       "\n",
       "        <table>\n",
       "            <tr>\n",
       "                <th>Model</th>\n",
       "                <th>Out-of-distribution dataset</th>\n",
       "                <th>FPR (95% TPR)</th>\n",
       "                <th>Detection Error</th>\n",
       "                <th>AUROC</th>\n",
       "                <th>AUPR In</th>\n",
       "                <th>AUPR Out</th>\n",
       "            </tr>\n",
       "    <tr><td rowspan=1><b>CNN</b> (MNIST (0-4))</td><td>5-9 MNIST</td><td>20.1</td><td>12.5</td><td>93.8</td><td>94.1</td><td>95.0</td></tr><tr><td rowspan=1><b>CNN_ODIN</b> (MNIST (0-4))</td><td>5-9 MNIST</td><td>21.6</td><td>13.3</td><td>95.3</td><td>95.6</td><td>95.1</td></tr></table>"
      ],
      "text/plain": [
       "<IPython.core.display.HTML object>"
      ]
     },
     "metadata": {},
     "output_type": "display_data"
    }
   ],
   "source": [
    "from IPython.display import HTML, display\n",
    "\n",
    "table = html_summary_table(results)\n",
    "display(HTML(table))"
   ]
  },
  {
   "cell_type": "code",
   "execution_count": 88,
   "metadata": {},
   "outputs": [
    {
     "data": {
      "text/plain": [
       "<matplotlib.colors.LinearSegmentedColormap at 0x7f05705c1f60>"
      ]
     },
     "execution_count": 88,
     "metadata": {},
     "output_type": "execute_result"
    }
   ],
   "source": []
  },
  {
   "cell_type": "code",
   "execution_count": null,
   "metadata": {},
   "outputs": [],
   "source": []
  }
 ],
 "metadata": {
  "kernelspec": {
   "display_name": "Python 3",
   "language": "python",
   "name": "python3"
  },
  "language_info": {
   "codemirror_mode": {
    "name": "ipython",
    "version": 3
   },
   "file_extension": ".py",
   "mimetype": "text/x-python",
   "name": "python",
   "nbconvert_exporter": "python",
   "pygments_lexer": "ipython3",
   "version": "3.5.2"
  }
 },
 "nbformat": 4,
 "nbformat_minor": 2
}
