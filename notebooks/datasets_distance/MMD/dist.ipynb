{
 "cells": [
  {
   "cell_type": "code",
   "execution_count": 135,
   "metadata": {},
   "outputs": [],
   "source": [
    "# Implementation from https://github.com/dougalsutherland/opt-mmd\n",
    "\n",
    "import sys, os\n",
    "import numpy as np\n",
    "from math import sqrt\n",
    "\n",
    "CHANNEL_MEANS = (33.791240975260735/255,)\n",
    "CHANNEL_STDS = (79.17246803641319/255,)"
   ]
  },
  {
   "cell_type": "code",
   "execution_count": 136,
   "metadata": {},
   "outputs": [],
   "source": [
    "def kernelwidth_old(x1, x2):\n",
    "    '''Function to estimate the sigma parameter\n",
    "    \n",
    "       The RBF kernel width sigma is computed according to a rule of thumb: \n",
    "\n",
    "       Pick sigma such that the exponent of exp(- ||x-y|| / (2*sigma2)),\n",
    "       in other words ||x-y|| / (2*sigma2),  equals 1 for the median distance x\n",
    "       and y of all distances between points from both data sets X and Y.\n",
    "    '''\n",
    "    n, nfeatures = x1.shape\n",
    "    m, mfeatures = x2.shape\n",
    "    \n",
    "    k1 = np.sum((x1*x1), 1)\n",
    "    q = np.tile(k1, (m, 1)).transpose()\n",
    "    del k1\n",
    "    \n",
    "    k2 = np.sum((x2*x2), 1)\n",
    "    r = np.tile(k2, (n, 1))\n",
    "    del k2\n",
    "    \n",
    "    h= q + r\n",
    "    del q,r\n",
    "    \n",
    "    # The norm\n",
    "    h = h - 2*np.dot(x1,x2.transpose())\n",
    "    h = np.array(h, dtype=float)\n",
    "    \n",
    "    mdist = np.median([i for i in h.flat if i])\n",
    "    \n",
    "    sigma = sqrt(mdist/2.0)\n",
    "    if not sigma: sigma = 1\n",
    "    \n",
    "    return sigma"
   ]
  },
  {
   "cell_type": "markdown",
   "metadata": {},
   "source": [
    "## Compare all MNIST datasest"
   ]
  },
  {
   "cell_type": "code",
   "execution_count": 137,
   "metadata": {},
   "outputs": [
    {
     "name": "stdout",
     "output_type": "stream",
     "text": [
      "The autoreload extension is already loaded. To reload it, use:\n",
      "  %reload_ext autoreload\n"
     ]
    },
    {
     "data": {
      "text/plain": [
       "<torch._C.Generator at 0x7f2106cddd10>"
      ]
     },
     "execution_count": 137,
     "metadata": {},
     "output_type": "execute_result"
    }
   ],
   "source": [
    "# Add Bayesian-and-novelty directory to the PYTHONPATH\n",
    "import sys\n",
    "import os\n",
    "sys.path.append(os.path.realpath('../../../..'))\n",
    "\n",
    "# Autoreload changes in utils, etc.\n",
    "%load_ext autoreload\n",
    "%autoreload 2\n",
    "\n",
    "import torch\n",
    "from torchvision import datasets, transforms\n",
    "import numpy as np\n",
    "\n",
    "from novelty.utils.datasets import GaussianNoiseDataset\n",
    "from novelty.utils.datasets import UniformNoiseDataset\n",
    "from novelty.utils import DatasetSubset\n",
    "\n",
    "\n",
    "torch.manual_seed(1)"
   ]
  },
  {
   "cell_type": "markdown",
   "metadata": {},
   "source": [
    "# MNIST 0-9"
   ]
  },
  {
   "cell_type": "code",
   "execution_count": 138,
   "metadata": {},
   "outputs": [
    {
     "name": "stdout",
     "output_type": "stream",
     "text": [
      "Loading MNIST test\n"
     ]
    }
   ],
   "source": [
    "def get_mnist_test_data(mnist_dir):\n",
    "    \"\"\"\n",
    "    Return flattened and scaled MNIST test data as a numpy array.\n",
    "    \n",
    "    Saves/loads dataset from mnist_dir.\n",
    "    \"\"\"\n",
    "    print(\"Loading MNIST test\")\n",
    "    \n",
    "    transform = transforms.Compose([\n",
    "        transforms.ToTensor(),\n",
    "        transforms.Normalize(CHANNEL_MEANS, CHANNEL_STDS)\n",
    "    ])\n",
    "\n",
    "    dataset = datasets.MNIST(mnist_dir, train=False, download=True, transform=transform)\n",
    "    dataset = np.array([a[0].numpy() for a in dataset])\n",
    "    dataset = dataset.astype('float32')\n",
    "    return dataset.reshape(dataset.shape[0], 784)\n",
    "\n",
    "mnistTestX = get_mnist_test_data('/media/tadenoud/DATADisk/datasets/mnist/')"
   ]
  },
  {
   "cell_type": "code",
   "execution_count": 139,
   "metadata": {},
   "outputs": [
    {
     "name": "stdout",
     "output_type": "stream",
     "text": [
      "Loading Fashion MNIST\n"
     ]
    }
   ],
   "source": [
    "def get_fashion_mnist_test_data(fashion_mnist_dir):\n",
    "    \"\"\"\n",
    "    Return flattened and scaled Fashion MNIST test data as a numpy array.\n",
    "    \n",
    "    Saves/loads dataset from fashion_mnist_dir.\n",
    "    \"\"\"\n",
    "    print(\"Loading Fashion MNIST\")\n",
    "      \n",
    "    transform = transforms.Compose([\n",
    "        transforms.ToTensor(),\n",
    "        transforms.Normalize(CHANNEL_MEANS, CHANNEL_STDS)\n",
    "    ])\n",
    "    \n",
    "    dataset = datasets.FashionMNIST(fashion_mnist_dir, train=False, download=True, transform=transform)\n",
    "    dataset = np.array([a[0].numpy() for a in dataset])\n",
    "    dataset = dataset.astype('float32')\n",
    "    return dataset.reshape(dataset.shape[0], 784)\n",
    "\n",
    "fashionTestX = get_fashion_mnist_test_data('/media/tadenoud/DATADisk/datasets/fashion_mnist/')"
   ]
  },
  {
   "cell_type": "markdown",
   "metadata": {},
   "source": [
    "# Distance function"
   ]
  },
  {
   "cell_type": "code",
   "execution_count": 166,
   "metadata": {},
   "outputs": [],
   "source": [
    "from sklearn.metrics.pairwise import euclidean_distances\n",
    "\n",
    "a = np.array([\n",
    "    [1, 2],\n",
    "    [2, 3],\n",
    "    [5, 6],\n",
    "])\n",
    "\n",
    "\n",
    "def kernelwidth(X, Y, zeros=True):\n",
    "    X = np.concatenate((X, Y), axis=0)\n",
    "    res = euclidean_distances(X, X)\n",
    "\n",
    "    # Get only upper triangle values\n",
    "    # Removes distances between elements and their self from median calc\n",
    "    if not zeros:\n",
    "        res = res[np.triu_indices(len(res), 1)]\n",
    "    \n",
    "    return np.median(res)"
   ]
  },
  {
   "cell_type": "code",
   "execution_count": 167,
   "metadata": {},
   "outputs": [
    {
     "name": "stdout",
     "output_type": "stream",
     "text": [
      "1.4142135623730951\n",
      "1.4142135623730951\n"
     ]
    }
   ],
   "source": [
    "def pairwise_distance(X, Y):   \n",
    "    XX = np.dot(X, X.T)\n",
    "    \n",
    "    if X is Y:\n",
    "        YY = XX.T\n",
    "    else:\n",
    "        YY = np.dot(Y, Y.T)\n",
    "    \n",
    "    distances = np.dot(X, Y.T)\n",
    "    \n",
    "    distances *= -2\n",
    "    distances += np.diag(XX)[:, np.newaxis]\n",
    "    distances += np.diag(YY)[np.newaxis, :]\n",
    " \n",
    "    return np.sqrt(distances)\n",
    "\n",
    "def kernelwidth_new(X, Y):\n",
    "    X = np.concatenate((X, Y), axis=0)\n",
    "    return np.median(pairwise_distance(X, X))\n",
    "\n",
    "res1 = kernelwidth(a, a)\n",
    "res2 = kernelwidth_new(a, a)"
   ]
  },
  {
   "cell_type": "code",
   "execution_count": null,
   "metadata": {},
   "outputs": [],
   "source": []
  }
 ],
 "metadata": {
  "kernelspec": {
   "display_name": "Python 3",
   "language": "python",
   "name": "python3"
  },
  "language_info": {
   "codemirror_mode": {
    "name": "ipython",
    "version": 3
   },
   "file_extension": ".py",
   "mimetype": "text/x-python",
   "name": "python",
   "nbconvert_exporter": "python",
   "pygments_lexer": "ipython3",
   "version": "3.5.2"
  }
 },
 "nbformat": 4,
 "nbformat_minor": 2
}
