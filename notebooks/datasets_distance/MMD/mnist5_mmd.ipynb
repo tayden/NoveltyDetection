{
 "cells": [
  {
   "cell_type": "code",
   "execution_count": 1,
   "metadata": {},
   "outputs": [],
   "source": [
    "# Implementation from https://github.com/dougalsutherland/opt-mmd\n",
    "\n",
    "import sys, os\n",
    "import numpy as np\n",
    "from math import sqrt\n",
    "\n",
    "CHANNEL_MEANS = (33.430001959204674/255,)\n",
    "CHANNEL_STDS = (78.86655405163765/255,)"
   ]
  },
  {
   "cell_type": "code",
   "execution_count": 2,
   "metadata": {},
   "outputs": [],
   "source": [
    "from sklearn.metrics.pairwise import euclidean_distances\n",
    "\n",
    "def kernelwidth(X, Y):\n",
    "    X = np.concatenate((X, Y), axis=0)\n",
    "    res = euclidean_distances(X, X)\n",
    "    return np.median(res)"
   ]
  },
  {
   "cell_type": "code",
   "execution_count": 3,
   "metadata": {},
   "outputs": [],
   "source": [
    "def rbf_mmd2(X, Y, sigma=0, biased=True):\n",
    "    gamma = 1 / (2 * sigma**2)\n",
    "    \n",
    "    XX = np.dot(X, X.T)\n",
    "    XY = np.dot(X, Y.T)\n",
    "    YY = np.dot(Y, Y.T)\n",
    "    \n",
    "    X_sqnorms = np.diag(XX)\n",
    "    Y_sqnorms = np.diag(YY)\n",
    "    \n",
    "    K_XY = np.exp(-gamma * (\n",
    "        -2 * XY + X_sqnorms[:, np.newaxis] + Y_sqnorms[np.newaxis, :]))\n",
    "    K_XX = np.exp(-gamma * (\n",
    "        -2 * XX + X_sqnorms[:, np.newaxis] + X_sqnorms[np.newaxis, :]))\n",
    "    K_YY = np.exp(-gamma * (\n",
    "        -2 * YY + Y_sqnorms[:, np.newaxis] + Y_sqnorms[np.newaxis, :]))\n",
    "    \n",
    "    if biased:\n",
    "        mmd2 = K_XX.mean() + K_YY.mean() - 2 * K_XY.mean()\n",
    "    else:\n",
    "        m = K_XX.shape[0]\n",
    "        n = K_YY.shape[0]\n",
    "\n",
    "        mmd2 = ((K_XX.sum() - m) / (m * (m - 1))\n",
    "              + (K_YY.sum() - n) / (n * (n - 1))\n",
    "              - 2 * K_XY.mean())\n",
    "    return mmd2"
   ]
  },
  {
   "cell_type": "code",
   "execution_count": 4,
   "metadata": {},
   "outputs": [],
   "source": [
    "from PIL import Image\n",
    "from matplotlib import pyplot as plt\n",
    "\n",
    "def display_sample(sample):\n",
    "    img = sample.reshape((28, 28)) * 255.\n",
    "    plt.imshow(Image.fromarray(img))\n",
    "    plt.show()"
   ]
  },
  {
   "cell_type": "markdown",
   "metadata": {},
   "source": [
    "## Compare all MNIST datasest"
   ]
  },
  {
   "cell_type": "code",
   "execution_count": 5,
   "metadata": {},
   "outputs": [
    {
     "data": {
      "text/plain": [
       "<torch._C.Generator at 0x7ff4aa050290>"
      ]
     },
     "execution_count": 5,
     "metadata": {},
     "output_type": "execute_result"
    }
   ],
   "source": [
    "# Add Bayesian-and-novelty directory to the PYTHONPATH\n",
    "import sys\n",
    "import os\n",
    "sys.path.append(os.path.realpath('../../../..'))\n",
    "\n",
    "# Autoreload changes in utils, etc.\n",
    "%load_ext autoreload\n",
    "%autoreload 2\n",
    "\n",
    "import torch\n",
    "from torchvision import datasets, transforms\n",
    "import numpy as np\n",
    "\n",
    "from novelty.utils.datasets import GaussianNoiseDataset\n",
    "from novelty.utils.datasets import UniformNoiseDataset\n",
    "from novelty.utils import DatasetSubset\n",
    "\n",
    "\n",
    "torch.manual_seed(1)"
   ]
  },
  {
   "cell_type": "markdown",
   "metadata": {},
   "source": [
    "# MNIST 0-4"
   ]
  },
  {
   "cell_type": "code",
   "execution_count": 8,
   "metadata": {},
   "outputs": [
    {
     "name": "stdout",
     "output_type": "stream",
     "text": [
      "(5139, 1, 28, 28)\n"
     ]
    }
   ],
   "source": [
    "CHANNEL_MEANS = (33.550922870635986/255,)\n",
    "CHANNEL_STDS = (79.10186022520065/255,)\n",
    "\n",
    "def get_mnist_images(mnist_dir):  \n",
    "    transform = transforms.Compose([\n",
    "        transforms.Grayscale(),\n",
    "        transforms.ToTensor(),\n",
    "        transforms.Normalize(CHANNEL_MEANS, CHANNEL_STDS)\n",
    "    ])\n",
    "    \n",
    "    dataset = datasets.ImageFolder(mnist_dir, transform=transform)\n",
    "    dataset = np.array([a[0].numpy() for a in dataset])\n",
    "    print(dataset.shape)\n",
    "    dataset = dataset.astype('float32')\n",
    "    return dataset.reshape(dataset.shape[0], 784)\n",
    "\n",
    "\n",
    "mnist_test_0_4 = get_mnist_images('/media/tadenoud/DATADisk/datasets/mnist0_4/test')"
   ]
  },
  {
   "cell_type": "code",
   "execution_count": 7,
   "metadata": {},
   "outputs": [
    {
     "name": "stdout",
     "output_type": "stream",
     "text": [
      "Split MNIST MMD: 0.02541029453277588\n"
     ]
    }
   ],
   "source": [
    "mnist_test_5_9 = get_mnist_images('/media/tadenoud/DATADisk/datasets/mnist5_9/test')\n",
    "\n",
    "mnist_split_sigma = kernelwidth(mnist_test_0_4, mnist_test_5_9)\n",
    "mnist_split_mmd = rbf_mmd2(mnist_test_0_4, mnist_test_5_9, sigma=mnist_split_sigma)\n",
    "print(\"Split MNIST MMD:\", mnist_split_mmd)"
   ]
  },
  {
   "cell_type": "code",
   "execution_count": 8,
   "metadata": {},
   "outputs": [
    {
     "name": "stdout",
     "output_type": "stream",
     "text": [
      "Loading Fashion MNIST\n",
      "Fashion MMD: 0.12481021881103516\n"
     ]
    }
   ],
   "source": [
    "def get_fashion_mnist_test_data(fashion_mnist_dir):\n",
    "    \"\"\"\n",
    "    Return flattened and scaled Fashion MNIST test data as a numpy array.\n",
    "    \n",
    "    Saves/loads dataset from fashion_mnist_dir.\n",
    "    \"\"\"\n",
    "    print(\"Loading Fashion MNIST\")\n",
    "      \n",
    "    transform = transforms.Compose([\n",
    "        transforms.ToTensor(),\n",
    "        transforms.Normalize(CHANNEL_MEANS, CHANNEL_STDS)\n",
    "    ])\n",
    "    \n",
    "    dataset = datasets.FashionMNIST(fashion_mnist_dir, train=False, download=True, transform=transform)\n",
    "    dataset = np.array([a[0].numpy() for a in dataset])\n",
    "    dataset = dataset.astype('float32')\n",
    "    return dataset.reshape(dataset.shape[0], 784)\n",
    "\n",
    "fashionTestX = get_fashion_mnist_test_data('/media/tadenoud/DATADisk/datasets/fashion_mnist/')\n",
    "\n",
    "fashion_sigma = kernelwidth(mnist_test_0_4, fashionTestX)\n",
    "fashion_mmd = rbf_mmd2(mnist_test_0_4, fashionTestX, sigma=fashion_sigma)\n",
    "print(\"Fashion MMD:\", fashion_mmd)"
   ]
  },
  {
   "cell_type": "code",
   "execution_count": 9,
   "metadata": {},
   "outputs": [
    {
     "name": "stdout",
     "output_type": "stream",
     "text": [
      "Loading EMNIST Letters\n",
      "EMNIST Letters MMD: 0.05019485950469971\n"
     ]
    }
   ],
   "source": [
    "def get_emnist_letters_test_data(emnist_letters_dir):\n",
    "    \"\"\"\n",
    "    Return flattened and scaled EMNIST Letters test data as a numpy array.\n",
    "    \n",
    "    Saves/loads dataset from emnist_letters_dir.\n",
    "    \"\"\"\n",
    "    print(\"Loading EMNIST Letters\")\n",
    "    \n",
    "    transform = transforms.Compose([\n",
    "        transforms.ToTensor(),\n",
    "        transforms.Normalize(CHANNEL_MEANS, CHANNEL_STDS)\n",
    "    ])\n",
    "    \n",
    "    dataset = datasets.EMNIST(emnist_letters_dir, \"letters\", train=False, download=True, transform=transform)\n",
    "    dataset = np.array([a[0].numpy() for a in dataset])\n",
    "    dataset = dataset.astype('float32')\n",
    "    return dataset.reshape(dataset.shape[0], 784)\n",
    "\n",
    "emnistTestX = get_emnist_letters_test_data('/media/tadenoud/DATADisk/datasets/emnist/')\n",
    "\n",
    "emnist_sigma = kernelwidth(mnist_test_0_4, emnistTestX)\n",
    "emnist_mmd = rbf_mmd2(mnist_test_0_4, emnistTestX, sigma=emnist_sigma)\n",
    "print(\"EMNIST Letters MMD:\", emnist_mmd)"
   ]
  },
  {
   "cell_type": "code",
   "execution_count": 10,
   "metadata": {},
   "outputs": [
    {
     "name": "stdout",
     "output_type": "stream",
     "text": [
      "Loading NotMNIST\n",
      "NotMNIST MMD: 0.2474055290222168\n"
     ]
    }
   ],
   "source": [
    "def get_notmnist_test_data(notmnist_dir):\n",
    "    \"\"\"\n",
    "    Return flattened and scaled NotMNIST test data as a numpy array.\n",
    "    \n",
    "    Loads dataset from notmnist_dir.\n",
    "    \"\"\"\n",
    "    print(\"Loading NotMNIST\")\n",
    "    \n",
    "    transform = transforms.Compose([\n",
    "        transforms.Grayscale(),\n",
    "        transforms.ToTensor(),\n",
    "        transforms.Normalize(CHANNEL_MEANS, CHANNEL_STDS)\n",
    "    ])\n",
    "    \n",
    "    dataset = datasets.ImageFolder(notmnist_dir, transform=transform),\n",
    "    dataset = np.array([a[0].numpy() for a in dataset[0]])\n",
    "    dataset = dataset.astype('float32')\n",
    "    return dataset.reshape(dataset.shape[0], 784)\n",
    "\n",
    "notmnistTestX = get_notmnist_test_data('/media/tadenoud/DATADisk/datasets/notmnist/')\n",
    "\n",
    "notmnist_sigma = kernelwidth(mnist_test_0_4, notmnistTestX)\n",
    "notmnist_mmd = rbf_mmd2(mnist_test_0_4, notmnistTestX, sigma=notmnist_sigma)\n",
    "print(\"NotMNIST MMD:\", notmnist_mmd)"
   ]
  },
  {
   "cell_type": "code",
   "execution_count": 11,
   "metadata": {},
   "outputs": [
    {
     "name": "stdout",
     "output_type": "stream",
     "text": [
      "Loading MNIST 0-4 rot90\n",
      "MNIST rot90 MMD: 0.08018434047698975\n"
     ]
    }
   ],
   "source": [
    "def get_mnist_0_4_rot90_test_data(mnist_dir):\n",
    "    \"\"\"\n",
    "    Return 90 degree rotated, flattened, and scaled MNIST test data as a numpy array containing only digits 0-4.\n",
    "    \n",
    "    Loads dataset from notmnist_dir.\n",
    "    \"\"\"\n",
    "    print(\"Loading MNIST 0-4 rot90\")\n",
    "    \n",
    "    transform = transforms.Compose([\n",
    "        transforms.Lambda(lambda image: image.rotate(90)),\n",
    "        transforms.ToTensor(),\n",
    "        transforms.Normalize(CHANNEL_MEANS, CHANNEL_STDS)\n",
    "    ])\n",
    "    \n",
    "    dataset = DatasetSubset(datasets.MNIST(mnist_dir, transform=transform, train=False, download=True), \n",
    "                            [0,1,2,3,4], train=False)\n",
    "    dataset = np.array([a[0].numpy() for a in dataset])\n",
    "    dataset = dataset.astype('float32')\n",
    "    return dataset.reshape(dataset.shape[0], 784)\n",
    "\n",
    "\n",
    "mnistRot90TestX = get_mnist_0_4_rot90_test_data('/media/tadenoud/DATADisk/datasets/mnist/')\n",
    "\n",
    "mnistrot90_sigma = kernelwidth(mnist_test_0_4, mnistRot90TestX)\n",
    "mnistrot90_mmd = rbf_mmd2(mnist_test_0_4, mnistRot90TestX, sigma=mnistrot90_sigma)\n",
    "\n",
    "# display_sample(mnistRot90TestX[0])\n",
    "# display_sample(mnist_test_0_4[0])\n",
    "print(\"MNIST rot90 MMD:\", mnistrot90_mmd)"
   ]
  },
  {
   "cell_type": "code",
   "execution_count": 12,
   "metadata": {},
   "outputs": [
    {
     "name": "stdout",
     "output_type": "stream",
     "text": [
      "Loading Gaussian Noise data\n",
      "Gaussian MMD: 0.09465014934539795\n"
     ]
    }
   ],
   "source": [
    "def get_gaussian_test_data():\n",
    "    \"\"\"Return flattened, and scaled Gaussian Noise test data as a numpy array.\"\"\"\n",
    "    print(\"Loading Gaussian Noise data\")\n",
    "    \n",
    "    dataset = GaussianNoiseDataset((10000, 784), mean=0., std=1.)\n",
    "    dataset = np.array([a for a, _ in iter(dataset)])\n",
    "    return dataset.astype('float32')\n",
    "\n",
    "gaussianTestX = get_gaussian_test_data()\n",
    "\n",
    "gaussian_sigma = kernelwidth(mnist_test_0_4, gaussianTestX)\n",
    "gaussian_mmd = rbf_mmd2(mnist_test_0_4, gaussianTestX, sigma=gaussian_sigma)\n",
    "print(\"Gaussian MMD:\", gaussian_mmd)"
   ]
  },
  {
   "cell_type": "code",
   "execution_count": 13,
   "metadata": {
    "scrolled": true
   },
   "outputs": [
    {
     "name": "stdout",
     "output_type": "stream",
     "text": [
      "Loading Uniform Noise data\n",
      "Uniform MMD: 0.1839480996131897\n"
     ]
    }
   ],
   "source": [
    "import math\n",
    "\n",
    "def get_uniform_test_data():\n",
    "    \"\"\"Return flattened, and scaled Uniform Noise test data as a numpy array.\"\"\"\n",
    "    print(\"Loading Uniform Noise data\")\n",
    "    \n",
    "    dataset = UniformNoiseDataset((10000, 784), low=-math.sqrt(3), high=math.sqrt(3))\n",
    "    dataset = np.array([a for a, _ in iter(dataset)])\n",
    "    return dataset.astype('float32')\n",
    "\n",
    "uniformTestX = get_uniform_test_data()\n",
    "\n",
    "uniform_sigma = kernelwidth(mnist_test_0_4, uniformTestX)\n",
    "uniform_mmd = rbf_mmd2(mnist_test_0_4, uniformTestX, sigma=uniform_sigma)\n",
    "print(\"Uniform MMD:\", uniform_mmd)"
   ]
  },
  {
   "cell_type": "markdown",
   "metadata": {},
   "source": [
    "# MNIST 0-4  results"
   ]
  },
  {
   "cell_type": "code",
   "execution_count": 14,
   "metadata": {},
   "outputs": [
    {
     "data": {
      "text/html": [
       "<div>\n",
       "<style scoped>\n",
       "    .dataframe tbody tr th:only-of-type {\n",
       "        vertical-align: middle;\n",
       "    }\n",
       "\n",
       "    .dataframe tbody tr th {\n",
       "        vertical-align: top;\n",
       "    }\n",
       "\n",
       "    .dataframe thead th {\n",
       "        text-align: right;\n",
       "    }\n",
       "</style>\n",
       "<table border=\"1\" class=\"dataframe\">\n",
       "  <thead>\n",
       "    <tr style=\"text-align: right;\">\n",
       "      <th></th>\n",
       "      <th>mmd</th>\n",
       "      <th>sigma</th>\n",
       "    </tr>\n",
       "  </thead>\n",
       "  <tbody>\n",
       "    <tr>\n",
       "      <th>5-9</th>\n",
       "      <td>0.0254103</td>\n",
       "      <td>33.0235</td>\n",
       "    </tr>\n",
       "    <tr>\n",
       "      <th>letters</th>\n",
       "      <td>0.0501949</td>\n",
       "      <td>36.6667</td>\n",
       "    </tr>\n",
       "    <tr>\n",
       "      <th>rot90</th>\n",
       "      <td>0.0801843</td>\n",
       "      <td>34.5695</td>\n",
       "    </tr>\n",
       "    <tr>\n",
       "      <th>gaussian</th>\n",
       "      <td>0.0946501</td>\n",
       "      <td>39.3048</td>\n",
       "    </tr>\n",
       "    <tr>\n",
       "      <th>fashion</th>\n",
       "      <td>0.12481</td>\n",
       "      <td>36.8061</td>\n",
       "    </tr>\n",
       "    <tr>\n",
       "      <th>uniform</th>\n",
       "      <td>0.183948</td>\n",
       "      <td>27.0369</td>\n",
       "    </tr>\n",
       "    <tr>\n",
       "      <th>not_mnist</th>\n",
       "      <td>0.247406</td>\n",
       "      <td>55.3861</td>\n",
       "    </tr>\n",
       "  </tbody>\n",
       "</table>\n",
       "</div>"
      ],
      "text/plain": [
       "                 mmd    sigma\n",
       "5-9        0.0254103  33.0235\n",
       "letters    0.0501949  36.6667\n",
       "rot90      0.0801843  34.5695\n",
       "gaussian   0.0946501  39.3048\n",
       "fashion      0.12481  36.8061\n",
       "uniform     0.183948  27.0369\n",
       "not_mnist   0.247406  55.3861"
      ]
     },
     "metadata": {},
     "output_type": "display_data"
    }
   ],
   "source": [
    "import pandas as pd\n",
    "\n",
    "df = pd.DataFrame(columns=['mmd', 'sigma'],\n",
    "                  index=['5-9', 'fashion', 'letters', 'not_mnist', 'rot90', 'gaussian', 'uniform'])\n",
    "\n",
    "df.loc['5-9'] = pd.Series({'mmd': mnist_split_mmd, 'sigma': mnist_split_sigma})\n",
    "df.loc['fashion'] = pd.Series({'mmd': fashion_mmd, 'sigma': fashion_sigma})\n",
    "df.loc['letters'] = pd.Series({'mmd': emnist_mmd, 'sigma': emnist_sigma})\n",
    "df.loc['not_mnist'] = pd.Series({'mmd': notmnist_mmd, 'sigma': notmnist_sigma})\n",
    "df.loc['rot90'] = pd.Series({'mmd': mnistrot90_mmd, 'sigma': mnistrot90_sigma})\n",
    "df.loc['gaussian'] = pd.Series({'mmd': gaussian_mmd, 'sigma': gaussian_sigma})\n",
    "df.loc['uniform'] = pd.Series({'mmd': uniform_mmd, 'sigma': uniform_sigma})\n",
    "\n",
    "df = df.sort_values(by=['mmd'])\n",
    "\n",
    "display(df)"
   ]
  },
  {
   "cell_type": "code",
   "execution_count": 15,
   "metadata": {},
   "outputs": [],
   "source": [
    "df.to_pickle('../results/mnist5_mmd.pkl')"
   ]
  },
  {
   "cell_type": "markdown",
   "metadata": {},
   "source": [
    "## Calculate dataset means"
   ]
  },
  {
   "cell_type": "code",
   "execution_count": 8,
   "metadata": {},
   "outputs": [
    {
     "name": "stdout",
     "output_type": "stream",
     "text": [
      "(82735, 3, 28, 28)\n"
     ]
    }
   ],
   "source": [
    "CHANNEL_MEANS = (33.430001959204674/255,)\n",
    "CHANNEL_STDS = (78.86655405163765/255,)\n",
    "\n",
    "\n",
    "def _get_mnist_images(mnist_dir):  \n",
    "    \"\"\"\n",
    "    Return MNIST image data as a numpy array.\n",
    "    Saves/loads dataset from mnist_dir.\n",
    "    \"\"\"\n",
    "    transform = transforms.Compose([\n",
    "        transforms.ToTensor(),\n",
    "#         transforms.Normalize(CHANNEL_MEANS, CHANNEL_STDS)\n",
    "    ])\n",
    "    \n",
    "    dataset = datasets.ImageFolder(mnist_dir, transform=transform)\n",
    "    dataset = np.array([a[0].numpy() for a in dataset])\n",
    "    return dataset.astype('float32')\n",
    "\n",
    "data = _get_mnist_images('/media/tadenoud/DATADisk/datasets/mnist0_4/train')\n",
    "print(data.shape)"
   ]
  },
  {
   "cell_type": "code",
   "execution_count": 9,
   "metadata": {
    "scrolled": true
   },
   "outputs": [
    {
     "name": "stdout",
     "output_type": "stream",
     "text": [
      "mean (0): 0.131098\n",
      "\n",
      "std (0): 0.309281\n",
      "\n",
      "CHANNEL_MEANS = (33.430001959204674/255)\n",
      "CHANNEL_STDS = (78.86655405163765/255)\n"
     ]
    }
   ],
   "source": [
    "means = []\n",
    "val = np.reshape(data[:,0,:,:], -1)\n",
    "mean = np.mean(val)\n",
    "print('mean (%d): %f' % (0, mean))\n",
    "means.append(mean*255)\n",
    "\n",
    "print()\n",
    "\n",
    "stds = []\n",
    "\n",
    "val = np.reshape(data[:,0,:,:], -1)\n",
    "std = np.std(val)\n",
    "print('std (%d): %f' % (0, std))\n",
    "stds.append(std*255)\n",
    "\n",
    "print()\n",
    "print('CHANNEL_MEANS = ({}/255)'.format(*means))\n",
    "print('CHANNEL_STDS = ({}/255)'.format(*stds))"
   ]
  },
  {
   "cell_type": "code",
   "execution_count": null,
   "metadata": {},
   "outputs": [],
   "source": []
  }
 ],
 "metadata": {
  "kernelspec": {
   "display_name": "Python 3",
   "language": "python",
   "name": "python3"
  },
  "language_info": {
   "codemirror_mode": {
    "name": "ipython",
    "version": 3
   },
   "file_extension": ".py",
   "mimetype": "text/x-python",
   "name": "python",
   "nbconvert_exporter": "python",
   "pygments_lexer": "ipython3",
   "version": "3.5.2"
  }
 },
 "nbformat": 4,
 "nbformat_minor": 2
}
