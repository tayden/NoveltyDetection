{
 "cells": [
  {
   "cell_type": "code",
   "execution_count": 1,
   "metadata": {},
   "outputs": [],
   "source": [
    "# Implementation from https://github.com/dougalsutherland/opt-mmd\n",
    "\n",
    "import sys, os\n",
    "import numpy as np\n",
    "from math import sqrt\n",
    "\n",
    "CHANNEL_MEANS = (125.30691727995872/255, 122.95035973191261/255, 113.86546522378922/255)\n",
    "CHANNEL_STDS = (62.993244007229805/255, 62.08868734538555/255, 66.70485824346542/255)"
   ]
  },
  {
   "cell_type": "code",
   "execution_count": 2,
   "metadata": {},
   "outputs": [],
   "source": [
    "from sklearn.metrics.pairwise import euclidean_distances\n",
    "\n",
    "def kernelwidth(X, Y):\n",
    "    X = np.concatenate((X, Y), axis=0)\n",
    "    res = euclidean_distances(X, X)\n",
    "    return np.median(res)"
   ]
  },
  {
   "cell_type": "code",
   "execution_count": 3,
   "metadata": {},
   "outputs": [],
   "source": [
    "def rbf_mmd2(X, Y, sigma=0, biased=True):\n",
    "    gamma = 1 / (2 * sigma**2)\n",
    "    \n",
    "    XX = np.dot(X, X.T)\n",
    "    XY = np.dot(X, Y.T)\n",
    "    YY = np.dot(Y, Y.T)\n",
    "    \n",
    "    X_sqnorms = np.diag(XX)\n",
    "    Y_sqnorms = np.diag(YY)\n",
    "    \n",
    "    K_XY = np.exp(-gamma * (\n",
    "        -2 * XY + X_sqnorms[:, np.newaxis] + Y_sqnorms[np.newaxis, :]))\n",
    "    K_XX = np.exp(-gamma * (\n",
    "        -2 * XX + X_sqnorms[:, np.newaxis] + X_sqnorms[np.newaxis, :]))\n",
    "    K_YY = np.exp(-gamma * (\n",
    "        -2 * YY + Y_sqnorms[:, np.newaxis] + Y_sqnorms[np.newaxis, :]))\n",
    "    \n",
    "    if biased:\n",
    "        mmd2 = K_XX.mean() + K_YY.mean() - 2 * K_XY.mean()\n",
    "    else:\n",
    "        m = K_XX.shape[0]\n",
    "        n = K_YY.shape[0]\n",
    "\n",
    "        mmd2 = ((K_XX.sum() - m) / (m * (m - 1))\n",
    "              + (K_YY.sum() - n) / (n * (n - 1))\n",
    "              - 2 * K_XY.mean())\n",
    "    return mmd2"
   ]
  },
  {
   "cell_type": "code",
   "execution_count": 4,
   "metadata": {},
   "outputs": [],
   "source": [
    "from PIL import Image\n",
    "from matplotlib import pyplot as plt\n",
    "\n",
    "def display_sample(sample):\n",
    "    img = sample.reshape((28, 28)) * 255.\n",
    "    plt.imshow(Image.fromarray(img))\n",
    "    plt.show()"
   ]
  },
  {
   "cell_type": "code",
   "execution_count": 5,
   "metadata": {},
   "outputs": [
    {
     "data": {
      "text/plain": [
       "<torch._C.Generator at 0x7f129d973270>"
      ]
     },
     "execution_count": 5,
     "metadata": {},
     "output_type": "execute_result"
    }
   ],
   "source": [
    "# Add Bayesian-and-novelty directory to the PYTHONPATH\n",
    "import sys\n",
    "import os\n",
    "sys.path.append(os.path.realpath('../../../..'))\n",
    "\n",
    "# Autoreload changes in utils, etc.\n",
    "%load_ext autoreload\n",
    "%autoreload 2\n",
    "\n",
    "import torch\n",
    "from torchvision import datasets, transforms\n",
    "import numpy as np\n",
    "from functools import reduce\n",
    "\n",
    "from novelty.utils.datasets import GaussianNoiseDataset\n",
    "from novelty.utils.datasets import UniformNoiseDataset\n",
    "from novelty.utils import DatasetSubset\n",
    "\n",
    "\n",
    "torch.manual_seed(1)"
   ]
  },
  {
   "cell_type": "markdown",
   "metadata": {},
   "source": [
    "# CIFAR10 0-9"
   ]
  },
  {
   "cell_type": "code",
   "execution_count": 6,
   "metadata": {},
   "outputs": [
    {
     "name": "stdout",
     "output_type": "stream",
     "text": [
      "Loading CIFAR10 test\n",
      "Files already downloaded and verified\n"
     ]
    }
   ],
   "source": [
    "def get_cifar10_test_data(cifar10_dir):\n",
    "    \"\"\"\n",
    "    Return flattened and scaled CIFAR10 test data as a numpy array.\n",
    "    \n",
    "    Saves/loads dataset from cifar10_dir.\n",
    "    \"\"\"\n",
    "    print(\"Loading CIFAR10 test\")\n",
    "    \n",
    "    transform = transforms.Compose([\n",
    "        transforms.ToTensor(),\n",
    "        transforms.Normalize(CHANNEL_MEANS, CHANNEL_STDS)\n",
    "    ])\n",
    "    \n",
    "    dataset = datasets.CIFAR10(cifar10_dir, train=False, download=True, transform=transform)\n",
    "    dataset = np.array([a[0].numpy() for a in dataset])\n",
    "    dataset = dataset.astype('float32')\n",
    "    return dataset.reshape(dataset.shape[0], reduce(lambda s, x: s * x, dataset.shape[1:], 1))\n",
    "\n",
    "cifar10_test = get_cifar10_test_data('/media/tadenoud/DATADisk/datasets/cifar10/')"
   ]
  },
  {
   "cell_type": "code",
   "execution_count": 7,
   "metadata": {},
   "outputs": [
    {
     "name": "stdout",
     "output_type": "stream",
     "text": [
      "Loading ImageNet crop\n",
      "Imagenet (crop) MMD: 0.01297605037689209\n"
     ]
    }
   ],
   "source": [
    "def get_imagenet_crop_data(imagenet_dir):\n",
    "    \"\"\"\n",
    "    Return cropped, flattened, and scaled TinyImageNet test data as a numpy array.\n",
    "    \n",
    "    Saves/loads dataset from imagenet_dir.\n",
    "    \"\"\"\n",
    "    print(\"Loading ImageNet crop\")\n",
    "    \n",
    "    transform_crop = transforms.Compose([\n",
    "        transforms.RandomCrop([32, 32]),\n",
    "        transforms.ToTensor(),\n",
    "        transforms.Normalize(CHANNEL_MEANS, CHANNEL_STDS)\n",
    "    ])\n",
    "\n",
    "    dataset = datasets.ImageFolder(imagenet_dir, transform=transform_crop)\n",
    "    dataset = np.array([a[0].numpy() for a in dataset])\n",
    "    dataset = dataset.astype('float32')\n",
    "    return dataset.reshape(dataset.shape[0],  reduce(lambda s, x: s * x, dataset.shape[1:], 1))\n",
    "\n",
    "imagenet_crop = get_imagenet_crop_data('/media/tadenoud/DATADisk/datasets/tiny-imagenet-200/test/')\n",
    "\n",
    "imagenet_crop_sigma = kernelwidth(cifar10_test, imagenet_crop)\n",
    "imagenet_crop_mmd = rbf_mmd2(cifar10_test, imagenet_crop, sigma=imagenet_crop_sigma)\n",
    "print(\"Imagenet (crop) MMD:\", imagenet_crop_mmd)"
   ]
  },
  {
   "cell_type": "code",
   "execution_count": 8,
   "metadata": {},
   "outputs": [
    {
     "name": "stdout",
     "output_type": "stream",
     "text": [
      "Loading ImageNet resize\n",
      "Imagenet (resize) MMD: 0.008004307746887207\n"
     ]
    }
   ],
   "source": [
    "def get_imagenet_resize_data(imagenet_dir):\n",
    "    \"\"\"\n",
    "    Return resized, flattened, and scaled TinyImageNet test data as a numpy array.\n",
    "    \n",
    "    Saves/loads dataset from imagenet_dir.\n",
    "    \"\"\"\n",
    "    print(\"Loading ImageNet resize\")\n",
    "    \n",
    "    transform_resize = transforms.Compose([\n",
    "        transforms.Resize([32, 32]),\n",
    "        transforms.ToTensor(),\n",
    "        transforms.Normalize(CHANNEL_MEANS, CHANNEL_STDS)\n",
    "    ])\n",
    "\n",
    "    dataset = datasets.ImageFolder(imagenet_dir, transform=transform_resize)\n",
    "    dataset = np.array([a[0].numpy() for a in dataset])\n",
    "    dataset = dataset.astype('float32')\n",
    "    return dataset.reshape(dataset.shape[0],  reduce(lambda s, x: s * x, dataset.shape[1:], 1))\n",
    "\n",
    "imagenet_resize = get_imagenet_resize_data('/media/tadenoud/DATADisk/datasets/tiny-imagenet-200/test/')\n",
    "\n",
    "imagenet_resize_sigma = kernelwidth(cifar10_test, imagenet_resize)\n",
    "imagenet_resize_mmd = rbf_mmd2(cifar10_test, imagenet_resize, sigma=imagenet_resize_sigma)\n",
    "print(\"Imagenet (resize) MMD:\", imagenet_resize_mmd)"
   ]
  },
  {
   "cell_type": "code",
   "execution_count": 9,
   "metadata": {},
   "outputs": [
    {
     "name": "stdout",
     "output_type": "stream",
     "text": [
      "Loading LSUN crop\n",
      "LSUN (crop) MMD: 0.021367788314819336\n"
     ]
    }
   ],
   "source": [
    "def get_lsun_crop_data(lsun_dir):\n",
    "    \"\"\"\n",
    "    Return cropped, flattened, and scaled LSUN test data as a numpy array.\n",
    "    \n",
    "    Saves/loads dataset from lsun_dir.\n",
    "    \"\"\"\n",
    "    print(\"Loading LSUN crop\")\n",
    "    \n",
    "    transform_crop = transforms.Compose([\n",
    "        transforms.RandomCrop([32, 32]),\n",
    "        transforms.ToTensor(),\n",
    "        transforms.Normalize(CHANNEL_MEANS, CHANNEL_STDS)\n",
    "    ])\n",
    "    \n",
    "    dataset = datasets.LSUN(lsun_dir, classes='test', transform=transform_crop)\n",
    "    dataset = np.array([a[0].numpy() for a in dataset])\n",
    "    dataset = dataset.astype('float32')\n",
    "    return dataset.reshape(dataset.shape[0],  reduce(lambda s, x: s * x, dataset.shape[1:], 1))\n",
    "\n",
    "lsun_crop = get_lsun_crop_data('/media/tadenoud/DATADisk/datasets/lsun/')\n",
    "\n",
    "lsun_crop_sigma = kernelwidth(cifar10_test, lsun_crop)\n",
    "lsun_crop_mmd = rbf_mmd2(cifar10_test, lsun_crop, sigma=lsun_crop_sigma)\n",
    "print(\"LSUN (crop) MMD:\", lsun_crop_mmd)"
   ]
  },
  {
   "cell_type": "code",
   "execution_count": 10,
   "metadata": {},
   "outputs": [
    {
     "name": "stdout",
     "output_type": "stream",
     "text": [
      "Loading LSUN resize\n",
      "LSUN (resize) MMD: 0.012928009033203125\n"
     ]
    }
   ],
   "source": [
    "def get_lsun_resize_data(lsun_dir):\n",
    "    \"\"\"\n",
    "    Return resized, flattened, and scaled LSUN test data as a numpy array.\n",
    "    \n",
    "    Saves/loads dataset from lsun_dir.\n",
    "    \"\"\"\n",
    "    print(\"Loading LSUN resize\")\n",
    "    \n",
    "    transform_resize = transforms.Compose([\n",
    "        transforms.Resize([32, 32]),\n",
    "        transforms.ToTensor(),\n",
    "        transforms.Normalize(CHANNEL_MEANS, CHANNEL_STDS)\n",
    "    ])\n",
    "    \n",
    "    dataset = datasets.LSUN(lsun_dir, classes='test', transform=transform_resize)\n",
    "    dataset = np.array([a[0].numpy() for a in dataset])\n",
    "    dataset = dataset.astype('float32')\n",
    "    return dataset.reshape(dataset.shape[0],  reduce(lambda s, x: s * x, dataset.shape[1:], 1))\n",
    "\n",
    "lsun_resize = get_lsun_resize_data('/media/tadenoud/DATADisk/datasets/lsun/')\n",
    "\n",
    "lsun_resize_sigma = kernelwidth(cifar10_test, lsun_resize)\n",
    "lsun_resize_mmd = rbf_mmd2(cifar10_test, lsun_resize, sigma=lsun_resize_sigma)\n",
    "print(\"LSUN (resize) MMD:\", lsun_resize_mmd)"
   ]
  },
  {
   "cell_type": "code",
   "execution_count": 11,
   "metadata": {},
   "outputs": [
    {
     "name": "stdout",
     "output_type": "stream",
     "text": [
      "Loading iSUN\n",
      "iSUN MMD: 0.008300423622131348\n"
     ]
    }
   ],
   "source": [
    "def get_isun_data(isun_dir):\n",
    "    \"\"\"\n",
    "    Return flattened, and scaled iSUN test data as a numpy array.\n",
    "    \n",
    "    Saves/loads dataset from isun_dir.\n",
    "    \"\"\"\n",
    "    print(\"Loading iSUN\")\n",
    "    \n",
    "    transform_resize = transforms.Compose([\n",
    "        transforms.Resize([32, 32]),\n",
    "        transforms.ToTensor(),\n",
    "        transforms.Normalize(CHANNEL_MEANS, CHANNEL_STDS)\n",
    "    ])\n",
    "\n",
    "    dataset = datasets.ImageFolder(isun_dir, transform=transform_resize)\n",
    "    dataset = np.array([a[0].numpy() for a in dataset])\n",
    "    dataset = dataset.astype('float32')\n",
    "    return dataset.reshape(dataset.shape[0],  reduce(lambda s, x: s * x, dataset.shape[1:], 1))\n",
    "\n",
    "isun_data = get_isun_data('/media/tadenoud/DATADisk/datasets/isun/')\n",
    "\n",
    "isun_sigma = kernelwidth(cifar10_test, isun_data)\n",
    "isun_mmd = rbf_mmd2(cifar10_test, isun_data, sigma=isun_sigma)\n",
    "print(\"iSUN MMD:\", isun_mmd)"
   ]
  },
  {
   "cell_type": "code",
   "execution_count": 12,
   "metadata": {},
   "outputs": [
    {
     "name": "stdout",
     "output_type": "stream",
     "text": [
      "Loading Gaussian Noise data\n",
      "Gaussian MMD: 0.011263728141784668\n"
     ]
    }
   ],
   "source": [
    "def get_gaussian_test_data():\n",
    "    \"\"\"Return flattened, and scaled Gaussian Noise test data as a numpy array.\"\"\"\n",
    "    print(\"Loading Gaussian Noise data\")\n",
    "    \n",
    "    dataset = GaussianNoiseDataset((10000, 32*32*3), mean=0.0, std=1)\n",
    "    dataset = np.array([a for a, _ in iter(dataset)])\n",
    "    return dataset.astype('float32')\n",
    "\n",
    "gaussianTestX = get_gaussian_test_data()\n",
    "\n",
    "gaussian_sigma = kernelwidth(cifar10_test, gaussianTestX)\n",
    "gaussian_mmd = rbf_mmd2(cifar10_test, gaussianTestX, sigma=gaussian_sigma)\n",
    "print(\"Gaussian MMD:\", gaussian_mmd)"
   ]
  },
  {
   "cell_type": "code",
   "execution_count": 13,
   "metadata": {
    "scrolled": true
   },
   "outputs": [
    {
     "name": "stdout",
     "output_type": "stream",
     "text": [
      "Loading Uniform Noise data\n",
      "Uniform MMD: 0.05905938148498535\n"
     ]
    }
   ],
   "source": [
    "import math\n",
    "\n",
    "def get_uniform_test_data():\n",
    "    \"\"\"Return flattened, and scaled Uniform Noise test data as a numpy array.\"\"\"\n",
    "    print(\"Loading Uniform Noise data\")\n",
    "    \n",
    "    dataset = UniformNoiseDataset((10000, 32*32*3), low=-math.sqrt(3), high=math.sqrt(3))\n",
    "    dataset = np.array([a for a, _ in iter(dataset)])\n",
    "    return dataset.astype('float32')\n",
    "\n",
    "uniformTestX = get_uniform_test_data()\n",
    "\n",
    "uniform_sigma = kernelwidth(cifar10_test, uniformTestX)\n",
    "uniform_mmd = rbf_mmd2(cifar10_test, uniformTestX, sigma=uniform_sigma)\n",
    "print(\"Uniform MMD:\", uniform_mmd)"
   ]
  },
  {
   "cell_type": "markdown",
   "metadata": {},
   "source": [
    "# CIFAR10 0-9 results"
   ]
  },
  {
   "cell_type": "code",
   "execution_count": 14,
   "metadata": {},
   "outputs": [
    {
     "data": {
      "text/html": [
       "<div>\n",
       "<style scoped>\n",
       "    .dataframe tbody tr th:only-of-type {\n",
       "        vertical-align: middle;\n",
       "    }\n",
       "\n",
       "    .dataframe tbody tr th {\n",
       "        vertical-align: top;\n",
       "    }\n",
       "\n",
       "    .dataframe thead th {\n",
       "        text-align: right;\n",
       "    }\n",
       "</style>\n",
       "<table border=\"1\" class=\"dataframe\">\n",
       "  <thead>\n",
       "    <tr style=\"text-align: right;\">\n",
       "      <th></th>\n",
       "      <th>mmd</th>\n",
       "      <th>sigma</th>\n",
       "    </tr>\n",
       "  </thead>\n",
       "  <tbody>\n",
       "    <tr>\n",
       "      <th>imagenet_resize</th>\n",
       "      <td>0.00800431</td>\n",
       "      <td>73.8562</td>\n",
       "    </tr>\n",
       "    <tr>\n",
       "      <th>isun_resize</th>\n",
       "      <td>0.00830042</td>\n",
       "      <td>76.3597</td>\n",
       "    </tr>\n",
       "    <tr>\n",
       "      <th>gaussian</th>\n",
       "      <td>0.0112637</td>\n",
       "      <td>77.8318</td>\n",
       "    </tr>\n",
       "    <tr>\n",
       "      <th>lsun_resize</th>\n",
       "      <td>0.012928</td>\n",
       "      <td>73.836</td>\n",
       "    </tr>\n",
       "    <tr>\n",
       "      <th>imagenet_crop</th>\n",
       "      <td>0.0129761</td>\n",
       "      <td>77.1872</td>\n",
       "    </tr>\n",
       "    <tr>\n",
       "      <th>lsun_crop</th>\n",
       "      <td>0.0213678</td>\n",
       "      <td>76.1002</td>\n",
       "    </tr>\n",
       "    <tr>\n",
       "      <th>uniform</th>\n",
       "      <td>0.0590594</td>\n",
       "      <td>59.1955</td>\n",
       "    </tr>\n",
       "  </tbody>\n",
       "</table>\n",
       "</div>"
      ],
      "text/plain": [
       "                        mmd    sigma\n",
       "imagenet_resize  0.00800431  73.8562\n",
       "isun_resize      0.00830042  76.3597\n",
       "gaussian          0.0112637  77.8318\n",
       "lsun_resize        0.012928   73.836\n",
       "imagenet_crop     0.0129761  77.1872\n",
       "lsun_crop         0.0213678  76.1002\n",
       "uniform           0.0590594  59.1955"
      ]
     },
     "metadata": {},
     "output_type": "display_data"
    },
    {
     "data": {
      "image/png": "[encoded data removed]",
      "text/plain": [
       "<Figure size 432x288 with 1 Axes>"
      ]
     },
     "metadata": {},
     "output_type": "display_data"
    }
   ],
   "source": [
    "import pandas as pd\n",
    "from IPython.display import display\n",
    "\n",
    "df = pd.DataFrame(columns=['mmd', 'sigma'],\n",
    "                  index=['imagenet_crop', 'imagenet_resize', 'lsun_crop', 'lsun_resize', \n",
    "                         'isun_resize', 'gaussian', 'uniform'])\n",
    "\n",
    "df.loc['imagenet_crop'] = pd.Series({'mmd': imagenet_crop_mmd, 'sigma': imagenet_crop_sigma})\n",
    "df.loc['imagenet_resize'] = pd.Series({'mmd': imagenet_resize_mmd, 'sigma': imagenet_resize_sigma})\n",
    "df.loc['lsun_crop'] = pd.Series({'mmd': lsun_crop_mmd, 'sigma': lsun_crop_sigma})\n",
    "df.loc['lsun_resize'] = pd.Series({'mmd': lsun_resize_mmd, 'sigma': lsun_resize_sigma})\n",
    "df.loc['isun_resize'] = pd.Series({'mmd': isun_mmd, 'sigma': isun_sigma})\n",
    "df.loc['gaussian'] = pd.Series({'mmd': gaussian_mmd, 'sigma': gaussian_sigma})\n",
    "df.loc['uniform'] = pd.Series({'mmd': uniform_mmd, 'sigma': uniform_sigma})\n",
    "\n",
    "df = df.sort_values(by=['mmd'])\n",
    "\n",
    "display(df)\n",
    "\n",
    "#plt.plot(df['mmd'])\n",
    "#plt.xticks(rotation=60)\n",
    "#plt.show()"
   ]
  },
  {
   "cell_type": "code",
   "execution_count": 15,
   "metadata": {},
   "outputs": [],
   "source": [
    "df.to_pickle('../results/cifar10_mmd.pkl')"
   ]
  },
  {
   "cell_type": "markdown",
   "metadata": {},
   "source": [
    "# Calculate mean and standard deviation normalization values per channel"
   ]
  },
  {
   "cell_type": "code",
   "execution_count": 8,
   "metadata": {},
   "outputs": [
    {
     "name": "stdout",
     "output_type": "stream",
     "text": [
      "Loading CIFAR10 train\n",
      "Files already downloaded and verified\n"
     ]
    }
   ],
   "source": [
    "CHANNEL_MEANS = (125.30691727995872/255, 122.95035973191261/255, 113.86546522378922/255)\n",
    "CHANNEL_STDS = (62.993244007229805/255, 62.08868734538555/255, 66.70485824346542/255)\n",
    "\n",
    "def _get_cifar10(cifar10_dir):\n",
    "    \"\"\"\n",
    "    Return scaled CIFAR10 test data as a numpy array.\n",
    "    \n",
    "    Saves/loads dataset from cifar10_dir.\n",
    "    \"\"\"\n",
    "    print(\"Loading CIFAR10 train\")\n",
    "    \n",
    "    transform = transforms.Compose([\n",
    "        transforms.ToTensor(),\n",
    "#         transforms.Normalize(CHANNEL_MEANS, CHANNEL_STDS)\n",
    "    ])\n",
    "    \n",
    "    dataset = datasets.CIFAR10(cifar10_dir, train=True, download=True, transform=transform)\n",
    "    dataset = np.array([a[0].numpy() for a in dataset])\n",
    "    return dataset.astype('float32')\n",
    "\n",
    "data = _get_cifar10('/media/tadenoud/DATADisk/datasets/cifar10/')"
   ]
  },
  {
   "cell_type": "code",
   "execution_count": 9,
   "metadata": {},
   "outputs": [
    {
     "name": "stdout",
     "output_type": "stream",
     "text": [
      "mean (0): 0.491400\n",
      "mean (1): 0.482158\n",
      "mean (2): 0.446531\n",
      "\n",
      "std (0): 0.247032\n",
      "std (1): 0.243485\n",
      "std (2): 0.261588\n",
      "\n",
      "CHANNEL_MEANS = (125.30691727995872/255, 122.95035973191261/255, 113.86546522378922/255)\n",
      "CHANNEL_STDS = (62.993244007229805/255, 62.08868734538555/255, 66.70485824346542/255)\n"
     ]
    }
   ],
   "source": [
    "means = []\n",
    "for i in range(3):\n",
    "    val = np.reshape(data[:,i,:,:], -1)\n",
    "    mean = np.mean(val)\n",
    "    print('mean (%d): %f' % (i, mean))\n",
    "    means.append(mean*255)\n",
    "\n",
    "print()\n",
    "\n",
    "stds = []\n",
    "for i in range(3):\n",
    "    val = np.reshape(data[:,i,:,:], -1)\n",
    "    std = np.std(val)\n",
    "    print('std (%d): %f' % (i, std))\n",
    "    stds.append(std*255)\n",
    "\n",
    "print()\n",
    "print('CHANNEL_MEANS = ({}/255, {}/255, {}/255)'.format(*means))\n",
    "print('CHANNEL_STDS = ({}/255, {}/255, {}/255)'.format(*stds))"
   ]
  },
  {
   "cell_type": "code",
   "execution_count": null,
   "metadata": {},
   "outputs": [],
   "source": []
  }
 ],
 "metadata": {
  "kernelspec": {
   "display_name": "Python 3",
   "language": "python",
   "name": "python3"
  },
  "language_info": {
   "codemirror_mode": {
    "name": "ipython",
    "version": 3
   },
   "file_extension": ".py",
   "mimetype": "text/x-python",
   "name": "python",
   "nbconvert_exporter": "python",
   "pygments_lexer": "ipython3",
   "version": "3.5.2"
  }
 },
 "nbformat": 4,
 "nbformat_minor": 2
}
