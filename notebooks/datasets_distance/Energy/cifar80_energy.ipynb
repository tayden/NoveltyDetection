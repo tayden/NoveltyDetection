{
 "cells": [
  {
   "cell_type": "code",
   "execution_count": 1,
   "metadata": {},
   "outputs": [],
   "source": [
    "# Implementation from https://github.com/dougalsutherland/opt-mmd\n",
    "\n",
    "import sys, os\n",
    "import numpy as np\n",
    "from math import sqrt\n",
    "\n",
    "CHANNEL_MEANS = (129.38732832670212/255, 124.35894414782524/255, 113.09937313199043/255)\n",
    "CHANNEL_STDS = (67.87980079650879/255, 65.10988622903824/255, 70.04801765084267/255)"
   ]
  },
  {
   "cell_type": "code",
   "execution_count": 2,
   "metadata": {},
   "outputs": [],
   "source": [
    "from scipy.spatial.distance import pdist, cdist\n",
    "\n",
    "def energy_distance(v, w):\n",
    "    VV = np.mean(pdist(v, 'euclidean'))\n",
    "    WW = np.mean(pdist(w, 'euclidean'))\n",
    "    VW = np.mean(cdist(v, w, 'euclidean'))\n",
    "    \n",
    "    return 2 * VW - VV - WW"
   ]
  },
  {
   "cell_type": "code",
   "execution_count": 3,
   "metadata": {},
   "outputs": [],
   "source": [
    "from PIL import Image\n",
    "from matplotlib import pyplot as plt\n",
    "\n",
    "def display_sample(sample):\n",
    "    img = sample.reshape((28, 28)) * 255.\n",
    "    plt.imshow(Image.fromarray(img))\n",
    "    plt.show()"
   ]
  },
  {
   "cell_type": "code",
   "execution_count": 4,
   "metadata": {},
   "outputs": [
    {
     "data": {
      "text/plain": [
       "<torch._C.Generator at 0x7f435ebca7d0>"
      ]
     },
     "execution_count": 4,
     "metadata": {},
     "output_type": "execute_result"
    }
   ],
   "source": [
    "# Add Bayesian-and-novelty directory to the PYTHONPATH\n",
    "import sys\n",
    "import os\n",
    "sys.path.append(os.path.realpath('../../../..'))\n",
    "\n",
    "# Autoreload changes in utils, etc.\n",
    "%load_ext autoreload\n",
    "%autoreload 2\n",
    "\n",
    "import torch\n",
    "from torchvision import datasets, transforms\n",
    "import numpy as np\n",
    "from functools import reduce\n",
    "\n",
    "from novelty.utils.datasets import GaussianNoiseDataset\n",
    "from novelty.utils.datasets import UniformNoiseDataset\n",
    "from novelty.utils import DatasetSubset\n",
    "\n",
    "\n",
    "torch.manual_seed(1)"
   ]
  },
  {
   "cell_type": "markdown",
   "metadata": {},
   "source": [
    "# CIFAR80"
   ]
  },
  {
   "cell_type": "code",
   "execution_count": 5,
   "metadata": {},
   "outputs": [
    {
     "name": "stdout",
     "output_type": "stream",
     "text": [
      "Loading CIFAR100 test subset\n",
      "Files already downloaded and verified\n"
     ]
    }
   ],
   "source": [
    "from novelty.utils import DatasetSubset\n",
    "\n",
    "def get_cifar_images(cifar80_dir):\n",
    "    \"\"\"\n",
    "    Return flattened and scaled CIFAR80 test data as a numpy array.\n",
    "    Filter so only 'classes' remain in dataset.\n",
    "    \n",
    "    Saves/loads dataset from cifar80_dir.\n",
    "    \"\"\"\n",
    "    print(\"Loading CIFAR80 data\")\n",
    "    \n",
    "    transform = transforms.Compose([\n",
    "        transforms.ToTensor(),\n",
    "        transforms.Normalize(CHANNEL_MEANS, CHANNEL_STDS)\n",
    "    ])\n",
    "    \n",
    "    dataset = datasets.ImageFolder(cifar80_dir, transform=transform)\n",
    "    dataset = np.array([a[0].numpy() for a in dataset])\n",
    "    dataset = dataset.astype('float32')\n",
    "    return dataset.reshape(dataset.shape[0], reduce(lambda s, x: s * x, dataset.shape[1:], 1))\n",
    "\n",
    "cifar80_test = get_cifar_images('/media/tadenoud/DATADisk/datasets/cifar80/test')"
   ]
  },
  {
   "cell_type": "code",
   "execution_count": 6,
   "metadata": {},
   "outputs": [
    {
     "data": {
      "text/plain": [
       "(8000, 3072)"
      ]
     },
     "execution_count": 6,
     "metadata": {},
     "output_type": "execute_result"
    }
   ],
   "source": [
    "cifar80_test.shape"
   ]
  },
  {
   "cell_type": "code",
   "execution_count": 7,
   "metadata": {},
   "outputs": [
    {
     "name": "stdout",
     "output_type": "stream",
     "text": [
      "Loading ImageNet crop\n",
      "Imagenet (crop) Energy: 1.4490925323862456\n"
     ]
    }
   ],
   "source": [
    "def get_imagenet_crop_data(imagenet_dir):\n",
    "    \"\"\"\n",
    "    Return cropped, flattened, and scaled TinyImageNet test data as a numpy array.\n",
    "    \n",
    "    Saves/loads dataset from imagenet_dir.\n",
    "    \"\"\"\n",
    "    print(\"Loading ImageNet crop\")\n",
    "    \n",
    "    transform_crop = transforms.Compose([\n",
    "        transforms.RandomCrop([32, 32]),\n",
    "        transforms.ToTensor(),\n",
    "        transforms.Normalize(CHANNEL_MEANS, CHANNEL_STDS)\n",
    "    ])\n",
    "\n",
    "    dataset = datasets.ImageFolder(imagenet_dir, transform=transform_crop)\n",
    "    dataset = np.array([a[0].numpy() for a in dataset])\n",
    "    dataset = dataset.astype('float32')\n",
    "    return dataset.reshape(dataset.shape[0],  reduce(lambda s, x: s * x, dataset.shape[1:], 1))\n",
    "\n",
    "imagenet_crop = get_imagenet_crop_data('/media/tadenoud/DATADisk/datasets/tiny-imagenet-200/test/')\n",
    "\n",
    "imagenet_crop_energy = energy_distance(cifar80_test, imagenet_crop)\n",
    "print(\"Imagenet (crop) Energy:\", imagenet_crop_energy)"
   ]
  },
  {
   "cell_type": "code",
   "execution_count": 8,
   "metadata": {},
   "outputs": [
    {
     "name": "stdout",
     "output_type": "stream",
     "text": [
      "Loading ImageNet resize\n",
      "Imagenet (resize) Energy: 1.0126395643552542\n"
     ]
    }
   ],
   "source": [
    "def get_imagenet_resize_data(imagenet_dir):\n",
    "    \"\"\"\n",
    "    Return resized, flattened, and scaled TinyImageNet test data as a numpy array.\n",
    "    \n",
    "    Saves/loads dataset from imagenet_dir.\n",
    "    \"\"\"\n",
    "    print(\"Loading ImageNet resize\")\n",
    "    \n",
    "    transform_resize = transforms.Compose([\n",
    "        transforms.Resize([32, 32]),\n",
    "        transforms.ToTensor(),\n",
    "        transforms.Normalize(CHANNEL_MEANS, CHANNEL_STDS)\n",
    "    ])\n",
    "\n",
    "    dataset = datasets.ImageFolder(imagenet_dir, transform=transform_resize)\n",
    "    dataset = np.array([a[0].numpy() for a in dataset])\n",
    "    dataset = dataset.astype('float32')\n",
    "    return dataset.reshape(dataset.shape[0],  reduce(lambda s, x: s * x, dataset.shape[1:], 1))\n",
    "\n",
    "imagenet_resize = get_imagenet_resize_data('/media/tadenoud/DATADisk/datasets/tiny-imagenet-200/test/')\n",
    "\n",
    "imagenet_resize_energy = energy_distance(cifar80_test, imagenet_resize)\n",
    "print(\"Imagenet (resize) Energy:\", imagenet_resize_energy)"
   ]
  },
  {
   "cell_type": "code",
   "execution_count": 9,
   "metadata": {},
   "outputs": [
    {
     "name": "stdout",
     "output_type": "stream",
     "text": [
      "Loading LSUN crop\n",
      "LSUN (crop) Energy: 1.6735993903347577\n"
     ]
    }
   ],
   "source": [
    "def get_lsun_crop_data(lsun_dir):\n",
    "    \"\"\"\n",
    "    Return cropped, flattened, and scaled LSUN test data as a numpy array.\n",
    "    \n",
    "    Saves/loads dataset from lsun_dir.\n",
    "    \"\"\"\n",
    "    print(\"Loading LSUN crop\")\n",
    "    \n",
    "    transform_crop = transforms.Compose([\n",
    "        transforms.RandomCrop([32, 32]),\n",
    "        transforms.ToTensor(),\n",
    "        transforms.Normalize(CHANNEL_MEANS, CHANNEL_STDS)\n",
    "    ])\n",
    "    \n",
    "    dataset = datasets.LSUN(lsun_dir, classes='test', transform=transform_crop)\n",
    "    dataset = np.array([a[0].numpy() for a in dataset])\n",
    "    dataset = dataset.astype('float32')\n",
    "    return dataset.reshape(dataset.shape[0],  reduce(lambda s, x: s * x, dataset.shape[1:], 1))\n",
    "\n",
    "lsun_crop = get_lsun_crop_data('/media/tadenoud/DATADisk/datasets/lsun/')\n",
    "\n",
    "lsun_crop_energy = energy_distance(cifar80_test, lsun_crop)\n",
    "print(\"LSUN (crop) Energy:\", lsun_crop_energy)"
   ]
  },
  {
   "cell_type": "code",
   "execution_count": 10,
   "metadata": {},
   "outputs": [
    {
     "name": "stdout",
     "output_type": "stream",
     "text": [
      "Loading LSUN resize\n",
      "LSUN (resize) Energy: 1.6534438870253183\n"
     ]
    }
   ],
   "source": [
    "def get_lsun_resize_data(lsun_dir):\n",
    "    \"\"\"\n",
    "    Return resized, flattened, and scaled LSUN test data as a numpy array.\n",
    "    \n",
    "    Saves/loads dataset from lsun_dir.\n",
    "    \"\"\"\n",
    "    print(\"Loading LSUN resize\")\n",
    "    \n",
    "    transform_resize = transforms.Compose([\n",
    "        transforms.Resize([32, 32]),\n",
    "        transforms.ToTensor(),\n",
    "        transforms.Normalize(CHANNEL_MEANS, CHANNEL_STDS)\n",
    "    ])\n",
    "    \n",
    "    dataset = datasets.LSUN(lsun_dir, classes='test', transform=transform_resize)\n",
    "    dataset = np.array([a[0].numpy() for a in dataset])\n",
    "    dataset = dataset.astype('float32')\n",
    "    return dataset.reshape(dataset.shape[0],  reduce(lambda s, x: s * x, dataset.shape[1:], 1))\n",
    "\n",
    "lsun_resize = get_lsun_resize_data('/media/tadenoud/DATADisk/datasets/lsun/')\n",
    "\n",
    "lsun_resize_energy = energy_distance(cifar80_test, lsun_resize)\n",
    "print(\"LSUN (resize) Energy:\", lsun_resize_energy)"
   ]
  },
  {
   "cell_type": "code",
   "execution_count": 11,
   "metadata": {},
   "outputs": [
    {
     "name": "stdout",
     "output_type": "stream",
     "text": [
      "Loading iSUN\n",
      "iSUN Energy: 1.154616387340468\n"
     ]
    }
   ],
   "source": [
    "def get_isun_data(isun_dir):\n",
    "    \"\"\"\n",
    "    Return flattened, and scaled iSUN test data as a numpy array.\n",
    "    \n",
    "    Saves/loads dataset from isun_dir.\n",
    "    \"\"\"\n",
    "    print(\"Loading iSUN\")\n",
    "    \n",
    "    transform_resize = transforms.Compose([\n",
    "        transforms.Resize([32, 32]),\n",
    "        transforms.ToTensor(),\n",
    "        transforms.Normalize(CHANNEL_MEANS, CHANNEL_STDS)\n",
    "    ])\n",
    "\n",
    "    dataset = datasets.ImageFolder(isun_dir, transform=transform_resize)\n",
    "    dataset = np.array([a[0].numpy() for a in dataset])\n",
    "    dataset = dataset.astype('float32')\n",
    "    return dataset.reshape(dataset.shape[0],  reduce(lambda s, x: s * x, dataset.shape[1:], 1))\n",
    "\n",
    "isun_data = get_isun_data('/media/tadenoud/DATADisk/datasets/isun/')\n",
    "\n",
    "isun_energy = energy_distance(cifar80_test, isun_data)\n",
    "print(\"iSUN Energy:\", isun_energy)"
   ]
  },
  {
   "cell_type": "code",
   "execution_count": 12,
   "metadata": {},
   "outputs": [
    {
     "name": "stdout",
     "output_type": "stream",
     "text": [
      "Loading Gaussian Noise data\n",
      "Gaussian Energy: 1.6212721178526266\n"
     ]
    }
   ],
   "source": [
    "def get_gaussian_test_data():\n",
    "    \"\"\"Return flattened, and scaled Gaussian Noise test data as a numpy array.\"\"\"\n",
    "    print(\"Loading Gaussian Noise data\")\n",
    "    \n",
    "    dataset = GaussianNoiseDataset((10000, 32*32*3), mean=0.0, std=1)\n",
    "    dataset = np.array([a for a, _ in iter(dataset)])\n",
    "    return dataset.astype('float32')\n",
    "\n",
    "gaussianTestX = get_gaussian_test_data()\n",
    "\n",
    "gaussian_energy = energy_distance(cifar80_test, gaussianTestX)\n",
    "print(\"Gaussian Energy:\", gaussian_energy)"
   ]
  },
  {
   "cell_type": "code",
   "execution_count": 13,
   "metadata": {
    "scrolled": true
   },
   "outputs": [
    {
     "name": "stdout",
     "output_type": "stream",
     "text": [
      "Loading Uniform Noise data\n",
      "Uniform Energy: 4.77928663821519\n"
     ]
    }
   ],
   "source": [
    "import math\n",
    "\n",
    "def get_uniform_test_data():\n",
    "    \"\"\"Return flattened, and scaled Uniform Noise test data as a numpy array.\"\"\"\n",
    "    print(\"Loading Uniform Noise data\")\n",
    "    \n",
    "    dataset = UniformNoiseDataset((10000, 32*32*3), low=-math.sqrt(3), high=math.sqrt(3))\n",
    "    dataset = np.array([a for a, _ in iter(dataset)])\n",
    "    return dataset.astype('float32')\n",
    "\n",
    "uniformTestX = get_uniform_test_data()\n",
    "\n",
    "uniform_energy = energy_distance(cifar80_test, uniformTestX)\n",
    "print(\"Uniform Energy:\", uniform_energy)"
   ]
  },
  {
   "cell_type": "code",
   "execution_count": 14,
   "metadata": {},
   "outputs": [
    {
     "name": "stdout",
     "output_type": "stream",
     "text": [
      "Loading CIFAR100 test subset\n",
      "Files already downloaded and verified\n",
      "CIFAR20 Energy: 0.11268996175461155\n"
     ]
    }
   ],
   "source": [
    "classes = [c for c in range(80, 100)]\n",
    "from novelty.utils import DatasetSubset\n",
    "\n",
    "def get_cifar_images(cifar80_dir):\n",
    "    \"\"\"\n",
    "    Return flattened and scaled CIFAR80 test data as a numpy array.\n",
    "    Filter so only 'classes' remain in dataset.\n",
    "    \n",
    "    Saves/loads dataset from cifar80_dir.\n",
    "    \"\"\"\n",
    "    print(\"Loading CIFAR80 data\")\n",
    "    \n",
    "    transform = transforms.Compose([\n",
    "        transforms.ToTensor(),\n",
    "        transforms.Normalize(CHANNEL_MEANS, CHANNEL_STDS)\n",
    "    ])\n",
    "    \n",
    "    dataset = datasets.ImageFolder(cifar80_dir, transform=transform)\n",
    "    dataset = np.array([a[0].numpy() for a in dataset])\n",
    "    dataset = dataset.astype('float32')\n",
    "    return dataset.reshape(dataset.shape[0], reduce(lambda s, x: s * x, dataset.shape[1:], 1))\n",
    "\n",
    "cifar20_test = get_cifar_images('/media/tadenoud/DATADisk/datasets/cifar20/test')\n",
    "\n",
    "cifar20_energy = energy_distance(cifar80_test, cifar20_test)\n",
    "print(\"CIFAR20 Energy:\", cifar20_energy)"
   ]
  },
  {
   "cell_type": "markdown",
   "metadata": {},
   "source": [
    "# CIFAR80 results"
   ]
  },
  {
   "cell_type": "code",
   "execution_count": 15,
   "metadata": {},
   "outputs": [
    {
     "data": {
      "text/html": [
       "<div>\n",
       "<style scoped>\n",
       "    .dataframe tbody tr th:only-of-type {\n",
       "        vertical-align: middle;\n",
       "    }\n",
       "\n",
       "    .dataframe tbody tr th {\n",
       "        vertical-align: top;\n",
       "    }\n",
       "\n",
       "    .dataframe thead th {\n",
       "        text-align: right;\n",
       "    }\n",
       "</style>\n",
       "<table border=\"1\" class=\"dataframe\">\n",
       "  <thead>\n",
       "    <tr style=\"text-align: right;\">\n",
       "      <th></th>\n",
       "      <th>energy</th>\n",
       "    </tr>\n",
       "  </thead>\n",
       "  <tbody>\n",
       "    <tr>\n",
       "      <th>cifar20</th>\n",
       "      <td>0.11269</td>\n",
       "    </tr>\n",
       "    <tr>\n",
       "      <th>imagenet_resize</th>\n",
       "      <td>1.01264</td>\n",
       "    </tr>\n",
       "    <tr>\n",
       "      <th>isun_resize</th>\n",
       "      <td>1.15462</td>\n",
       "    </tr>\n",
       "    <tr>\n",
       "      <th>imagenet_crop</th>\n",
       "      <td>1.44909</td>\n",
       "    </tr>\n",
       "    <tr>\n",
       "      <th>gaussian</th>\n",
       "      <td>1.62127</td>\n",
       "    </tr>\n",
       "    <tr>\n",
       "      <th>lsun_resize</th>\n",
       "      <td>1.65344</td>\n",
       "    </tr>\n",
       "    <tr>\n",
       "      <th>lsun_crop</th>\n",
       "      <td>1.6736</td>\n",
       "    </tr>\n",
       "    <tr>\n",
       "      <th>uniform</th>\n",
       "      <td>4.77929</td>\n",
       "    </tr>\n",
       "  </tbody>\n",
       "</table>\n",
       "</div>"
      ],
      "text/plain": [
       "                  energy\n",
       "cifar20          0.11269\n",
       "imagenet_resize  1.01264\n",
       "isun_resize      1.15462\n",
       "imagenet_crop    1.44909\n",
       "gaussian         1.62127\n",
       "lsun_resize      1.65344\n",
       "lsun_crop         1.6736\n",
       "uniform          4.77929"
      ]
     },
     "metadata": {},
     "output_type": "display_data"
    },
    {
     "data": {
      "image/png": "[encoded data removed]",
      "text/plain": [
       "<Figure size 432x288 with 1 Axes>"
      ]
     },
     "metadata": {},
     "output_type": "display_data"
    }
   ],
   "source": [
    "import pandas as pd\n",
    "from IPython.display import display\n",
    "\n",
    "df = pd.DataFrame(columns=['energy'],\n",
    "                  index=['imagenet_crop', 'imagenet_resize', 'lsun_crop', 'lsun_resize', \n",
    "                         'isun_resize', 'gaussian', 'uniform', 'cifar20'])\n",
    "\n",
    "df.loc['imagenet_crop'] = pd.Series({'energy': imagenet_crop_energy})\n",
    "df.loc['imagenet_resize'] = pd.Series({'energy': imagenet_resize_energy})\n",
    "df.loc['lsun_crop'] = pd.Series({'energy': lsun_crop_energy})\n",
    "df.loc['lsun_resize'] = pd.Series({'energy': lsun_resize_energy})\n",
    "df.loc['isun_resize'] = pd.Series({'energy': isun_energy})\n",
    "df.loc['gaussian'] = pd.Series({'energy': gaussian_energy})\n",
    "df.loc['uniform'] = pd.Series({'energy': uniform_energy})\n",
    "df.loc['cifar20'] = pd.Series({'energy': cifar20_energy})\n",
    "\n",
    "\n",
    "df = df.sort_values(by=['energy'])\n",
    "\n",
    "display(df)\n",
    "\n",
    "#plt.plot(df['energy'])\n",
    "#plt.xticks(rotation=60)\n",
    "#plt.show()"
   ]
  },
  {
   "cell_type": "code",
   "execution_count": 16,
   "metadata": {},
   "outputs": [],
   "source": [
    "df.to_pickle('../results/cifar80_energy.pkl')"
   ]
  }
 ],
 "metadata": {
  "kernelspec": {
   "display_name": "Python 3",
   "language": "python",
   "name": "python3"
  },
  "language_info": {
   "codemirror_mode": {
    "name": "ipython",
    "version": 3
   },
   "file_extension": ".py",
   "mimetype": "text/x-python",
   "name": "python",
   "nbconvert_exporter": "python",
   "pygments_lexer": "ipython3",
   "version": "3.5.2"
  }
 },
 "nbformat": 4,
 "nbformat_minor": 2
}
