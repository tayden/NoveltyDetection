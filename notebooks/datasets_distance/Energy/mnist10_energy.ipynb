{
 "cells": [
  {
   "cell_type": "code",
   "execution_count": 1,
   "metadata": {},
   "outputs": [],
   "source": [
    "# Implementation from https://github.com/dougalsutherland/opt-mmd\n",
    "\n",
    "import sys, os\n",
    "import numpy as np\n",
    "from math import sqrt\n",
    "\n",
    "CHANNEL_MEANS = (33.3184589445591/255,)\n",
    "CHANNEL_STDS = (78.56747969985008/255,)"
   ]
  },
  {
   "cell_type": "code",
   "execution_count": 2,
   "metadata": {},
   "outputs": [],
   "source": [
    "from scipy.spatial.distance import pdist, cdist\n",
    "\n",
    "def energy_distance(v, w):\n",
    "    VV = np.mean(pdist(v, 'euclidean'))\n",
    "    WW = np.mean(pdist(w, 'euclidean'))\n",
    "    VW = np.mean(cdist(v, w, 'euclidean'))\n",
    "    \n",
    "    return 2 * VW - VV - WW"
   ]
  },
  {
   "cell_type": "code",
   "execution_count": 3,
   "metadata": {},
   "outputs": [],
   "source": [
    "from PIL import Image\n",
    "from matplotlib import pyplot as plt\n",
    "\n",
    "def display_sample(sample):\n",
    "    img = sample.reshape((28, 28)) * 255.\n",
    "    plt.imshow(Image.fromarray(img))\n",
    "    plt.show()"
   ]
  },
  {
   "cell_type": "markdown",
   "metadata": {},
   "source": [
    "## Compare all MNIST datasest"
   ]
  },
  {
   "cell_type": "code",
   "execution_count": 4,
   "metadata": {},
   "outputs": [
    {
     "data": {
      "text/plain": [
       "<torch._C.Generator at 0x7f92e9e4f7b0>"
      ]
     },
     "execution_count": 4,
     "metadata": {},
     "output_type": "execute_result"
    }
   ],
   "source": [
    "# Add Bayesian-and-novelty directory to the PYTHONPATH\n",
    "import sys\n",
    "import os\n",
    "sys.path.append(os.path.realpath('../../../..'))\n",
    "\n",
    "# Autoreload changes in utils, etc.\n",
    "%load_ext autoreload\n",
    "%autoreload 2\n",
    "\n",
    "import torch\n",
    "from torchvision import datasets, transforms\n",
    "import numpy as np\n",
    "\n",
    "from novelty.utils.datasets import GaussianNoiseDataset\n",
    "from novelty.utils.datasets import UniformNoiseDataset\n",
    "from novelty.utils import DatasetSubset\n",
    "\n",
    "\n",
    "torch.manual_seed(1)"
   ]
  },
  {
   "cell_type": "markdown",
   "metadata": {},
   "source": [
    "# MNIST 0-9"
   ]
  },
  {
   "cell_type": "code",
   "execution_count": 5,
   "metadata": {},
   "outputs": [
    {
     "name": "stdout",
     "output_type": "stream",
     "text": [
      "Loading MNIST test\n"
     ]
    }
   ],
   "source": [
    "def get_mnist_test_data(mnist_dir):\n",
    "    \"\"\"\n",
    "    Return flattened and scaled MNIST test data as a numpy array.\n",
    "    \n",
    "    Saves/loads dataset from mnist_dir.\n",
    "    \"\"\"\n",
    "    print(\"Loading MNIST test\")\n",
    "    \n",
    "    transform = transforms.Compose([\n",
    "        transforms.ToTensor(),\n",
    "        transforms.Normalize(CHANNEL_MEANS, CHANNEL_STDS)\n",
    "    ])\n",
    "\n",
    "    dataset = datasets.MNIST(mnist_dir, train=False, download=True, transform=transform)\n",
    "    dataset = np.array([a[0].numpy() for a in dataset])\n",
    "    dataset = dataset.astype('float32')\n",
    "    return dataset.reshape(dataset.shape[0], 784)\n",
    "\n",
    "mnistTestX = get_mnist_test_data('/media/tadenoud/DATADisk/datasets/mnist/')"
   ]
  },
  {
   "cell_type": "code",
   "execution_count": 6,
   "metadata": {},
   "outputs": [
    {
     "name": "stdout",
     "output_type": "stream",
     "text": [
      "Loading Fashion MNIST\n",
      "Fashion Energy: 7.849508808525876\n"
     ]
    }
   ],
   "source": [
    "def get_fashion_mnist_test_data(fashion_mnist_dir):\n",
    "    \"\"\"\n",
    "    Return flattened and scaled Fashion MNIST test data as a numpy array.\n",
    "    \n",
    "    Saves/loads dataset from fashion_mnist_dir.\n",
    "    \"\"\"\n",
    "    print(\"Loading Fashion MNIST\")\n",
    "      \n",
    "    transform = transforms.Compose([\n",
    "        transforms.ToTensor(),\n",
    "        transforms.Normalize(CHANNEL_MEANS, CHANNEL_STDS)\n",
    "    ])\n",
    "    \n",
    "    dataset = datasets.FashionMNIST(fashion_mnist_dir, train=False, download=True, transform=transform)\n",
    "    dataset = np.array([a[0].numpy() for a in dataset])\n",
    "    dataset = dataset.astype('float32')\n",
    "    return dataset.reshape(dataset.shape[0], 784)\n",
    "\n",
    "fashionTestX = get_fashion_mnist_test_data('/media/tadenoud/DATADisk/datasets/fashion_mnist/')\n",
    "\n",
    "fashion_energy = energy_distance(mnistTestX, fashionTestX)\n",
    "print(\"Fashion Energy:\", fashion_energy)"
   ]
  },
  {
   "cell_type": "code",
   "execution_count": 7,
   "metadata": {},
   "outputs": [
    {
     "name": "stdout",
     "output_type": "stream",
     "text": [
      "Loading EMNIST Letters\n",
      "EMNIST Letters Energy: 3.296558960063045\n"
     ]
    }
   ],
   "source": [
    "def get_emnist_letters_test_data(emnist_letters_dir):\n",
    "    \"\"\"\n",
    "    Return flattened and scaled EMNIST Letters test data as a numpy array.\n",
    "    \n",
    "    Saves/loads dataset from emnist_letters_dir.\n",
    "    \"\"\"\n",
    "    print(\"Loading EMNIST Letters\")\n",
    "    \n",
    "    transform = transforms.Compose([\n",
    "        transforms.ToTensor(),\n",
    "        transforms.Normalize(CHANNEL_MEANS, CHANNEL_STDS)\n",
    "    ])\n",
    "    \n",
    "    dataset = datasets.EMNIST(emnist_letters_dir, \"letters\", train=False, download=True, transform=transform)\n",
    "    dataset = np.array([a[0].numpy() for a in dataset])\n",
    "    dataset = dataset.astype('float32')\n",
    "    return dataset.reshape(dataset.shape[0], 784)\n",
    "\n",
    "emnistTestX = get_emnist_letters_test_data('/media/tadenoud/DATADisk/datasets/emnist/')\n",
    "\n",
    "emnist_energy = energy_distance(mnistTestX, emnistTestX)\n",
    "print(\"EMNIST Letters Energy:\", emnist_energy)"
   ]
  },
  {
   "cell_type": "code",
   "execution_count": 8,
   "metadata": {},
   "outputs": [
    {
     "name": "stdout",
     "output_type": "stream",
     "text": [
      "Loading NotMNIST\n",
      "NotMNIST Energy: 24.406168270928433\n"
     ]
    }
   ],
   "source": [
    "def get_notmnist_test_data(notmnist_dir):\n",
    "    \"\"\"\n",
    "    Return flattened and scaled NotMNIST test data as a numpy array.\n",
    "    \n",
    "    Loads dataset from notmnist_dir.\n",
    "    \"\"\"\n",
    "    print(\"Loading NotMNIST\")\n",
    "    \n",
    "    transform = transforms.Compose([\n",
    "        transforms.Grayscale(),\n",
    "        transforms.ToTensor(),\n",
    "        transforms.Normalize(CHANNEL_MEANS, CHANNEL_STDS)\n",
    "    ])\n",
    "    \n",
    "    dataset = datasets.ImageFolder(notmnist_dir, transform=transform),\n",
    "    dataset = np.array([a[0].numpy() for a in dataset[0]])\n",
    "    dataset = dataset.astype('float32')\n",
    "    return dataset.reshape(dataset.shape[0], 784)\n",
    "\n",
    "\n",
    "notmnistTestX = get_notmnist_test_data('/media/tadenoud/DATADisk/datasets/notmnist/')\n",
    "\n",
    "notmnist_energy = energy_distance(mnistTestX, notmnistTestX)\n",
    "print(\"NotMNIST Energy:\", notmnist_energy)"
   ]
  },
  {
   "cell_type": "code",
   "execution_count": 9,
   "metadata": {},
   "outputs": [
    {
     "name": "stdout",
     "output_type": "stream",
     "text": [
      "Loading MNIST rot90\n",
      "MNIST rot90 Energy: 4.431147269510575\n"
     ]
    }
   ],
   "source": [
    "def get_mnist_rot90_test_data(mnist_dir):\n",
    "    \"\"\"\n",
    "    Return 90 degree rotated, flattened, and scaled MNIST test data as a numpy array.\n",
    "    \n",
    "    Loads dataset from notmnist_dir.\n",
    "    \"\"\"\n",
    "    print(\"Loading MNIST rot90\")\n",
    "    \n",
    "    transform = transforms.Compose([\n",
    "        transforms.Lambda(lambda image: image.rotate(90)),\n",
    "        transforms.ToTensor(),\n",
    "        transforms.Normalize(CHANNEL_MEANS, CHANNEL_STDS)\n",
    "    ])\n",
    "    \n",
    "    dataset = datasets.MNIST(mnist_dir, transform=transform, train=False, download=True)\n",
    "    dataset = np.array([a[0].numpy() for a in dataset])\n",
    "    dataset = dataset.astype('float32')\n",
    "    return dataset.reshape(dataset.shape[0], 784)\n",
    "\n",
    "mnistRot90TestX = get_mnist_rot90_test_data('/media/tadenoud/DATADisk/datasets/mnist/')\n",
    "\n",
    "mnistrot90_energy = energy_distance(mnistTestX, mnistRot90TestX)\n",
    "\n",
    "# display_sample(mnistRot90TestX[0])\n",
    "# display_sample(mnistTestX[0])\n",
    "print(\"MNIST rot90 Energy:\", mnistrot90_energy)"
   ]
  },
  {
   "cell_type": "code",
   "execution_count": 10,
   "metadata": {},
   "outputs": [
    {
     "name": "stdout",
     "output_type": "stream",
     "text": [
      "Loading Gaussian Noise data\n",
      "Gaussian Energy: 6.559970800710573\n"
     ]
    }
   ],
   "source": [
    "def get_gaussian_test_data():\n",
    "    \"\"\"Return flattened, and scaled Gaussian Noise test data as a numpy array.\"\"\"\n",
    "    print(\"Loading Gaussian Noise data\")\n",
    "    \n",
    "    dataset = GaussianNoiseDataset((10000, 784), mean=0., std=1.)\n",
    "    dataset = np.array([a for a, _ in iter(dataset)])\n",
    "    return dataset.astype('float32')\n",
    "\n",
    "gaussianTestX = get_gaussian_test_data()\n",
    "\n",
    "gaussian_energy = energy_distance(mnistTestX, gaussianTestX)\n",
    "print(\"Gaussian Energy:\", gaussian_energy)"
   ]
  },
  {
   "cell_type": "code",
   "execution_count": 11,
   "metadata": {
    "scrolled": true
   },
   "outputs": [
    {
     "name": "stdout",
     "output_type": "stream",
     "text": [
      "Loading Uniform Noise data\n",
      "Uniform Energy: 8.581418391307668\n"
     ]
    }
   ],
   "source": [
    "import math\n",
    "\n",
    "def get_uniform_test_data():\n",
    "    \"\"\"Return flattened, and scaled Uniform Noise test data as a numpy array.\"\"\"\n",
    "    print(\"Loading Uniform Noise data\")\n",
    "    \n",
    "    dataset = UniformNoiseDataset((10000, 784), low=-math.sqrt(3), high=math.sqrt(3))\n",
    "    dataset = np.array([a for a, _ in iter(dataset)])\n",
    "    return dataset.astype('float32')\n",
    "\n",
    "\n",
    "uniformTestX = get_uniform_test_data()\n",
    "\n",
    "uniform_energy = energy_distance(mnistTestX, uniformTestX)\n",
    "print(\"Uniform Energy:\", uniform_energy)"
   ]
  },
  {
   "cell_type": "markdown",
   "metadata": {},
   "source": [
    "# MNIST 0-9 results"
   ]
  },
  {
   "cell_type": "code",
   "execution_count": 12,
   "metadata": {},
   "outputs": [
    {
     "data": {
      "text/html": [
       "<div>\n",
       "<style scoped>\n",
       "    .dataframe tbody tr th:only-of-type {\n",
       "        vertical-align: middle;\n",
       "    }\n",
       "\n",
       "    .dataframe tbody tr th {\n",
       "        vertical-align: top;\n",
       "    }\n",
       "\n",
       "    .dataframe thead th {\n",
       "        text-align: right;\n",
       "    }\n",
       "</style>\n",
       "<table border=\"1\" class=\"dataframe\">\n",
       "  <thead>\n",
       "    <tr style=\"text-align: right;\">\n",
       "      <th></th>\n",
       "      <th>energy</th>\n",
       "    </tr>\n",
       "  </thead>\n",
       "  <tbody>\n",
       "    <tr>\n",
       "      <th>letters</th>\n",
       "      <td>3.29656</td>\n",
       "    </tr>\n",
       "    <tr>\n",
       "      <th>rot90</th>\n",
       "      <td>4.43115</td>\n",
       "    </tr>\n",
       "    <tr>\n",
       "      <th>gaussian</th>\n",
       "      <td>6.55997</td>\n",
       "    </tr>\n",
       "    <tr>\n",
       "      <th>fashion</th>\n",
       "      <td>7.84951</td>\n",
       "    </tr>\n",
       "    <tr>\n",
       "      <th>uniform</th>\n",
       "      <td>8.58142</td>\n",
       "    </tr>\n",
       "    <tr>\n",
       "      <th>not_mnist</th>\n",
       "      <td>24.4062</td>\n",
       "    </tr>\n",
       "  </tbody>\n",
       "</table>\n",
       "</div>"
      ],
      "text/plain": [
       "            energy\n",
       "letters    3.29656\n",
       "rot90      4.43115\n",
       "gaussian   6.55997\n",
       "fashion    7.84951\n",
       "uniform    8.58142\n",
       "not_mnist  24.4062"
      ]
     },
     "metadata": {},
     "output_type": "display_data"
    }
   ],
   "source": [
    "import pandas as pd\n",
    "from IPython.display import display\n",
    "\n",
    "df = pd.DataFrame(columns=['energy'],\n",
    "                  index=['fashion', 'letters', 'not_mnist', 'rot90', 'gaussian', 'uniform'])\n",
    "\n",
    "df.loc['fashion'] = pd.Series({'energy': fashion_energy})\n",
    "df.loc['letters'] = pd.Series({'energy': emnist_energy})\n",
    "df.loc['not_mnist'] = pd.Series({'energy': notmnist_energy})\n",
    "df.loc['rot90'] = pd.Series({'energy': mnistrot90_energy})\n",
    "df.loc['gaussian'] = pd.Series({'energy': gaussian_energy})\n",
    "df.loc['uniform'] = pd.Series({'energy': uniform_energy})\n",
    "\n",
    "df = df.sort_values(by=['energy'])\n",
    "\n",
    "display(df)"
   ]
  },
  {
   "cell_type": "code",
   "execution_count": 13,
   "metadata": {},
   "outputs": [],
   "source": [
    "df.to_pickle('../results/mnist10_energy.pkl')"
   ]
  },
  {
   "cell_type": "code",
   "execution_count": null,
   "metadata": {},
   "outputs": [],
   "source": []
  }
 ],
 "metadata": {
  "kernelspec": {
   "display_name": "Python 3",
   "language": "python",
   "name": "python3"
  },
  "language_info": {
   "codemirror_mode": {
    "name": "ipython",
    "version": 3
   },
   "file_extension": ".py",
   "mimetype": "text/x-python",
   "name": "python",
   "nbconvert_exporter": "python",
   "pygments_lexer": "ipython3",
   "version": "3.5.2"
  }
 },
 "nbformat": 4,
 "nbformat_minor": 2
}
